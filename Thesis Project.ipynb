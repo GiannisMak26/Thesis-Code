{
 "cells": [
  {
   "cell_type": "code",
   "execution_count": 1,
   "metadata": {},
   "outputs": [
    {
     "name": "stdout",
     "output_type": "stream",
     "text": [
      "no display found. Using non-interactive Agg backend\n"
     ]
    }
   ],
   "source": [
    "# Packages to be used\n",
    "import networkx as nx\n",
    "from networkx.algorithms import approximation\n",
    "from networkx.algorithms import community\n",
    "from networkx.algorithms import centrality\n",
    "import numpy as np\n",
    "import matplotlib.pyplot as plt\n",
    "import ndlib.models.epidemics as ep\n",
    "import ndlib.models.ModelConfig as mc\n",
    "import random\n",
    "# import scipy\n",
    "# import math\n",
    "# import sys\n",
    "import pandas as pd\n",
    "# from fractions import Fraction\n",
    "# import timeit\n",
    "# from time import sleep\n",
    "import igraph as ig\n",
    "import time\n",
    "import collections\n",
    "# import heapq as heap\n",
    "# from tqdm import tqdm \n",
    "import community\n",
    "from ndlib.viz.mpl.DiffusionTrend import DiffusionTrend"
   ]
  },
  {
   "cell_type": "code",
   "execution_count": 2,
   "metadata": {},
   "outputs": [
    {
     "name": "stdout",
     "output_type": "stream",
     "text": [
      "Graph with 7115 nodes and 100762 edges\n"
     ]
    }
   ],
   "source": [
    "# Load datasets, outside of definitions\n",
    "\n",
    "# G1 = nx.read_edgelist(\"Wiki-Vote.txt\", create_using=nx.DiGraph(), nodetype= int)\n",
    "# print(G1)\n",
    "G2 = nx.read_edgelist(\"Wiki-Vote.txt\", create_using=nx.Graph(), nodetype=int)\n",
    "print(G2)\n"
   ]
  },
  {
   "cell_type": "code",
   "execution_count": null,
   "metadata": {},
   "outputs": [],
   "source": [
    "# Making a directed graph undirected\n",
    "\n",
    "G1_undirected = G1.to_undirected()\n",
    "print(G1_undirected)"
   ]
  },
  {
   "attachments": {},
   "cell_type": "markdown",
   "metadata": {},
   "source": [
    "Heuristics to block/remove nodes"
   ]
  },
  {
   "cell_type": "code",
   "execution_count": 3,
   "metadata": {},
   "outputs": [
    {
     "name": "stdout",
     "output_type": "stream",
     "text": [
      "Done with betweenness centrality\n"
     ]
    }
   ],
   "source": [
    "# Centrality measures\n",
    "\n",
    "# Degree\n",
    "# sort_degree = sorted(dict(G2.degree).items(), key=lambda item: item[1], reverse=True)\n",
    "# print(sort_degree)\n",
    "\n",
    "# Degree centrality\n",
    "\n",
    "# degree_centrality = nx.centrality.degree_centrality(G2)\n",
    "# sort_degree_centrality = sorted(degree_centrality.items(), key=lambda item: item[1], reverse=True)\n",
    "# print(\"Done with degree centrality\")\n",
    "\n",
    "# Betweenness\n",
    "\n",
    "betweenness = nx.betweenness_centrality(G2)\n",
    "sort_betweenness = sorted(betweenness.items(), key=lambda item: item[1], reverse=True)\n",
    "print(\"Done with betweenness centrality\")\n",
    "\n",
    "\n",
    "# Closeness\n",
    "\n",
    "# closeness = nx.closeness_centrality(G2)\n",
    "# sort_closeness = sorted(closeness.items(), key=lambda item: item[1], reverse=True)\n",
    "# print(\"Done with closeness centrality\")\n",
    "\n",
    "\n",
    "# Influence maximization\n",
    "# Pagerank\n",
    "\n",
    "# pagerank = nx.pagerank(G2)\n",
    "# sort_pagerank = sorted(pagerank.items(), key=lambda item: item[1], reverse=True)\n",
    "# print(\"Done with pagerank centrality\")\n",
    "\n",
    "# Eigenvector\n",
    "\n",
    "# eigenvector = nx.eigenvector_centrality(G2, max_iter=300)\n",
    "# sort_eigenvector = sorted(eigenvector.items(), key=lambda item: item[1], reverse=True)\n",
    "# print(\"Done with eigenvector centrality\")"
   ]
  },
  {
   "cell_type": "code",
   "execution_count": null,
   "metadata": {},
   "outputs": [],
   "source": [
    "# To only get the keys from the sorted list\n",
    "\n",
    "only_keys = [k for k,v in sort_degree_centrality]\n",
    "print(only_keys)\n",
    "\n",
    "# Take the top 50 nodes to be used as seeds later\n",
    "first_100 = only_keys[0:100]\n",
    "print(first_100)"
   ]
  },
  {
   "cell_type": "code",
   "execution_count": null,
   "metadata": {},
   "outputs": [],
   "source": [
    "# Add weight to the edges of the graph. To be used as thresholds for the ICM\n",
    "\n",
    "degree_dict = dict(G2.degree())\n",
    "weights = []\n",
    "for u, v, data in G2.edges(data=True):\n",
    "    ratio = 1 / degree_dict[v]\n",
    "    data['weight'] = ratio\n",
    "    weights.append(ratio)\n",
    "\n",
    "print(weights)"
   ]
  },
  {
   "cell_type": "code",
   "execution_count": null,
   "metadata": {},
   "outputs": [],
   "source": [
    "# Create a copy of the original graph to be modified later, by removing nodes\n",
    "G2_copy = G2.copy()\n",
    "\n",
    "\n",
    "G2_copy.remove_nodes_from(first_100)\n",
    "print(G2_copy)"
   ]
  },
  {
   "attachments": {},
   "cell_type": "markdown",
   "metadata": {},
   "source": [
    "The following is the centrality measures for the new graph (After removing the nodes)"
   ]
  },
  {
   "cell_type": "code",
   "execution_count": null,
   "metadata": {},
   "outputs": [],
   "source": [
    "# Centrality measures\n",
    "\n",
    "# Degree\n",
    "# sort_degree = sorted(dict(G2.degree).items(), key=lambda item: item[1], reverse=True)\n",
    "# print(sort_degree)\n",
    "\n",
    "# Degree centrality\n",
    "degree_centrality_after = nx.centrality.degree_centrality(G2_copy)\n",
    "sort_degree_centrality_after = sorted(degree_centrality_after.items(), key=lambda item: item[1], reverse=True)\n",
    "print(\"Done with degree centrality\")\n",
    "\n",
    "# Betweenness\n",
    "\n",
    "betweenness_after = nx.betweenness_centrality(G2_copy)\n",
    "sort_betweenness_after = sorted(betweenness_after.items(), key=lambda item: item[1], reverse=True)\n",
    "print(\"Done with betweenness centrality\")\n",
    "\n",
    "# Closeness\n",
    "\n",
    "closeness_after = nx.closeness_centrality(G2_copy)\n",
    "sort_closeness_after = sorted(closeness_after.items(), key=lambda item: item[1], reverse=True)\n",
    "print(\"Done with closeness centrality\")\n",
    "\n",
    "\n",
    "# Influence maximization\n",
    "# Pagerank\n",
    "\n",
    "pagerank_after = nx.pagerank(G2_copy)\n",
    "sort_pagerank_after = sorted(pagerank_after.items(), key=lambda item: item[1], reverse=True)\n",
    "print(\"Done with pagerank centrality\")\n",
    "\n",
    "# Eigenvector\n",
    "\n",
    "eigenvector_after = nx.eigenvector_centrality(G2_copy)\n",
    "sort_eigenvector_after = sorted(eigenvector_after.items(), key=lambda item: item[1], reverse=True)\n",
    "print(\"Done with eigenvector centrality\")"
   ]
  },
  {
   "cell_type": "code",
   "execution_count": null,
   "metadata": {},
   "outputs": [],
   "source": [
    "# To only get the keys from the sorted list\n",
    "\n",
    "only_keys_after = [k for k,v in sort_pagerank_after]\n",
    "print(only_keys_after)\n",
    "\n",
    "# Take the top 50 nodes to be used as seeds later\n",
    "first_100_after = only_keys_after[0:100]\n",
    "print(first_100_after)"
   ]
  },
  {
   "cell_type": "code",
   "execution_count": 8,
   "metadata": {},
   "outputs": [],
   "source": [
    "# Adding weight to the edges of the graph\n",
    "\n",
    "# for u,v in G1.edges():\n",
    "#     G1[u][v]['weight'] = 1/G1.in_degree(v)\n",
    "# G1.get_edge_data(30,1412)\n",
    "# G1.in_degree(1412)\n",
    "\n",
    "# for u,v in G2.edges():\n",
    "#     G2[u][v]['weight'] = 1/G2.degree(v)\n",
    "# G2.get_edge_data(0,5)\n",
    "\n",
    "degree_dict = dict(G2_copy.degree())\n",
    "weights = []\n",
    "for u, v, data in G2_copy.edges(data=True):\n",
    "    ratio = 1 / degree_dict[v]\n",
    "    data['weight'] = ratio\n",
    "    weights.append(ratio)"
   ]
  },
  {
   "cell_type": "code",
   "execution_count": null,
   "metadata": {},
   "outputs": [],
   "source": [
    "# Adds an attribute to the nodes of the graph, for example degree centrality\n",
    "\n",
    "nx.set_node_attributes(G1, centrality, \"centrality\")\n",
    "# nx.set_node_attributes(G2, centrality, \"centrality\")"
   ]
  },
  {
   "cell_type": "code",
   "execution_count": null,
   "metadata": {},
   "outputs": [],
   "source": [
    "# Filtering the graph by removing edges based on their weight attribute\n",
    "\n",
    "for u,v in list(G1.edges()):\n",
    "    if G1[u][v]['weight'] < 0.04:\n",
    "        G1.remove_edge(u,v)\n",
    "G1_new = G1.copy()\n",
    "\n",
    "# Remove nodes based on their degree\n",
    "\n",
    "for u in list(G1.nodes()):\n",
    "    if G1.degree(u)< 10:\n",
    "        G1.remove_node(u)\n",
    "\n",
    "# Remove nodes based on their degree centrality\n",
    "\n",
    "for u,v in centrality.items():\n",
    "    if v < 0.004:\n",
    "        G1.remove_node(u)"
   ]
  },
  {
   "cell_type": "code",
   "execution_count": null,
   "metadata": {},
   "outputs": [],
   "source": [
    "# Lists of sources and targets based on in/out degrees of nodes\n",
    "\n",
    "sources = []\n",
    "targets = []\n",
    "for u in G1.nodes():\n",
    "    if G1.in_degree(u) == 0:\n",
    "        sources.append(u)\n",
    "for v in G1.nodes():\n",
    "    if G1.out_degree(v) == 0:\n",
    "        targets.append(v)"
   ]
  },
  {
   "cell_type": "code",
   "execution_count": null,
   "metadata": {},
   "outputs": [],
   "source": [
    "# Splitting the sources to smaller components (useful for seed selection)\n",
    "\n",
    "sub_sources = sources[0:50]\n",
    "print(sub_sources)\n"
   ]
  },
  {
   "cell_type": "code",
   "execution_count": null,
   "metadata": {},
   "outputs": [],
   "source": [
    "import random\n",
    "def random(nodes, n):\n",
    "    ''' Select seeds randomly\n",
    "    Args:\n",
    "        nodes (list) [#node]: node list of the graph;\n",
    "        n (int): number of seeds;\n",
    "    Returns: \n",
    "        seeds: (list) [#seed]: selected seed nodes index;\n",
    "    '''\n",
    "    # random.sample(nodes, n)\n",
    "    # return nodes[:n]\n",
    "    # np.random.shuffle(nodes)\n",
    "    # return nodes[:n]\n",
    "    seeds = random.sample(nodes, n)\n",
    "    return seeds"
   ]
  },
  {
   "cell_type": "code",
   "execution_count": null,
   "metadata": {},
   "outputs": [],
   "source": [
    "def mia(nodes, edges, n):\n",
    "    ''' select seeds by mia policy\n",
    "    args:\n",
    "        nodes (list) [#node]: node list of the graph;\n",
    "        edges (list of list) [#edge, 2]: edge list of the graph;\n",
    "        n (int): number of seeds;\n",
    "    returns: \n",
    "        seeds: (list) [#seed]: selected seed nodes index;\n",
    "    '''\n",
    "    out_connection = {}\n",
    "    in_connection = {}\n",
    "    centrality_score = {}\n",
    "    seeds = []\n",
    "    for edge in edges:\n",
    "        if edge[0] in out_connection:\n",
    "            out_connection[edge[0]].append(edge[1])\n",
    "        else:\n",
    "            out_connection[edge[0]] = [edge[1]]\n",
    "        if edge[1] in in_connection:\n",
    "            in_connection[edge[1]] += 1\n",
    "        else:\n",
    "            in_connection[edge[1]] = 1\n",
    "    for node in nodes:\n",
    "        centrality_score[node] = mia_centrality(node, out_connection, in_connection)\n",
    "    i = 0\n",
    "    for node, _ in sorted(centrality_score.items(), key=lambda item: item[1], reverse=True):\n",
    "        if i >= n:\n",
    "            break\n",
    "        else:\n",
    "            i += 1\n",
    "        seeds.append(node)\n",
    "    return seeds\n",
    "\n",
    "def mia_centrality(node, out_connection, in_connection):\n",
    "    ''' select seeds by mia centrality policy\n",
    "    '''\n",
    "    theta = 0.5\n",
    "    c_score = 0\n",
    "    q = 1  # threshold of influence\n",
    "    visited = set()\n",
    "    path_prob = 1\n",
    "    c_score = dfs(visited, out_connection, path_prob, in_connection, node, theta, q)\n",
    "    return c_score\n",
    "\n",
    "def dfs(visited, out_connection, path_prob, in_connection, node, theta, q):\n",
    "    if node not in visited:\n",
    "        visited.add(node)\n",
    "        if node in out_connection:\n",
    "            for neighbour in out_connection[node]:\n",
    "                path_prob *= q / in_connection[neighbour]\n",
    "                if path_prob >= theta:\n",
    "                    dfs(visited, out_connection, path_prob, in_connection, neighbour, theta, q)\n",
    "                    path_prob /= (q / in_connection[neighbour])\n",
    "                else:\n",
    "                    path_prob /= (q / in_connection[neighbour])\n",
    "    N_of_nodes = len(visited)\n",
    "    return N_of_nodes"
   ]
  },
  {
   "cell_type": "code",
   "execution_count": null,
   "metadata": {},
   "outputs": [],
   "source": [
    "def degree(edges, n):\n",
    "    ''' Select seeds by degree policy\n",
    "    Args:\n",
    "        edges (list of list) [#edge, 2]: edge list of the graph;\n",
    "        n (int): number of seeds;\n",
    "    Returns: \n",
    "        seeds: (list) [#seed]: selected seed nodes index;\n",
    "    '''\n",
    "    degree = {}\n",
    "    seeds = []\n",
    "    for edge in edges:\n",
    "        if edge[0] in degree:\n",
    "            degree[edge[0]] += 1\n",
    "        else:\n",
    "            degree[edge[0]] = 1\n",
    "        if edge[1] in degree:\n",
    "            degree[edge[1]] += 1\n",
    "        else:\n",
    "            degree[edge[1]] = 1\n",
    "    seeds = list({k: v for k, v in sorted(degree.items(), key=lambda item: item[1], reverse=True)}.keys())[:n]\n",
    "    return seeds"
   ]
  },
  {
   "cell_type": "code",
   "execution_count": null,
   "metadata": {},
   "outputs": [],
   "source": [
    "def degree_discount(edges, n):\n",
    "    ''' Select seeds by degree discount degree\n",
    "    Args:\n",
    "        edges (list of list) [#edge, 2]: edge list of the graph;\n",
    "        n (int): number of seeds;\n",
    "    Returns: \n",
    "        seeds: (list) [#seed]: selected seed nodes index;\n",
    "    '''\n",
    "    out_degree = {}\n",
    "    connection = {}\n",
    "    seeds = []\n",
    "    for edge in edges:\n",
    "        if edge[1] in connection:\n",
    "            connection[edge[1]].append(edge[0])\n",
    "        else:\n",
    "            connection[edge[1]] = [edge[0]]\n",
    "        if edge[0] in out_degree:\n",
    "            out_degree[edge[0]] += 1\n",
    "        else:\n",
    "            out_degree[edge[0]] = 1\n",
    "    while len(seeds) < n:\n",
    "        seed = sorted(out_degree.items(), key=lambda item: item[1], reverse=True)[0][0]\n",
    "        seeds.append(seed)\n",
    "        out_degree[seed] = -1\n",
    "        if seed in connection:\n",
    "            for node in connection[seed]:\n",
    "                if node in out_degree:\n",
    "                    out_degree[node] -= 1\n",
    "    return seeds"
   ]
  },
  {
   "cell_type": "code",
   "execution_count": null,
   "metadata": {},
   "outputs": [],
   "source": [
    "def degree_neighbor_fix(edges, n):\n",
    "    ''' select seeds by degree neighbor fix policy\n",
    "    args:\n",
    "        edges (list of list) [#edge, 2]: edge list of the graph;\n",
    "        n (int): number of seeds;\n",
    "    returns: \n",
    "        seeds: (list) [#seed]: selected seed nodes index;\n",
    "    '''\n",
    "    out_degree = {}\n",
    "    centrality_score = {}\n",
    "    connection = {}\n",
    "    seeds = []\n",
    "    for edge in edges:\n",
    "        if edge[1] in connection:\n",
    "            connection[edge[1]].append(edge[0])\n",
    "        else:\n",
    "            connection[edge[1]] = [edge[0]]\n",
    "        if edge[0] in out_degree:\n",
    "            out_degree[edge[0]] += 1\n",
    "        else:\n",
    "            out_degree[edge[0]] = 1\n",
    "    centrality_score = out_degree.copy()\n",
    "    for edge in edges:\n",
    "        if edge[1] in out_degree:\n",
    "            centrality_score[edge[0]] += out_degree[edge[1]]\n",
    "    while len(seeds) < n:\n",
    "        seed = sorted(centrality_score.items(), key=lambda item: item[1], reverse=True)[0][0]\n",
    "        seeds.append(seed)\n",
    "        centrality_score[seed] = -1\n",
    "        if seed in connection:\n",
    "            for node in connection[seed]:\n",
    "                if node in out_degree:\n",
    "                    centrality_score[node] -= out_degree[seed]\n",
    "\n",
    "    return seeds"
   ]
  },
  {
   "cell_type": "code",
   "execution_count": null,
   "metadata": {},
   "outputs": [],
   "source": [
    "def degree_neighbor(edges, n):\n",
    "    ''' select seeds by degree neighbor policy\n",
    "    args:\n",
    "        edges (list of list) [#edge, 2]: edge list of the graph;\n",
    "        n (int): number of seeds;\n",
    "    returns: \n",
    "        seeds: (list) [#seed]: selected seed nodes index;\n",
    "    '''\n",
    "    out_degree = {}\n",
    "    centrality_score = {}\n",
    "    seeds = []\n",
    "    for edge in edges:\n",
    "        if edge[0] in out_degree:\n",
    "            out_degree[edge[0]] += 1\n",
    "        else:\n",
    "            out_degree[edge[0]] = 1\n",
    "    centrality_score = out_degree.copy()\n",
    "    for edge in edges:\n",
    "        if edge[1] in out_degree:\n",
    "            centrality_score[edge[0]] += out_degree[edge[1]]\n",
    "    seeds = sorted(centrality_score.items(), key=lambda item: item[1], reverse=True)\n",
    "    return seeds\n"
   ]
  },
  {
   "cell_type": "code",
   "execution_count": null,
   "metadata": {},
   "outputs": [],
   "source": [
    "# Create communities based on the louvain method\n",
    "\n",
    "louvain = nx.algorithms.community.louvain_communities(G2)\n",
    "print(len(louvain))\n",
    "# print(louvain[131])"
   ]
  },
  {
   "cell_type": "code",
   "execution_count": null,
   "metadata": {},
   "outputs": [],
   "source": [
    "# Create a seed set based on the communities and a heuristic\n",
    "\n",
    "seeds_new = {}\n",
    "for community in louvain:\n",
    "    max_node = max(community, key=lambda node: degree_centrality[node])\n",
    "    seeds_new[max_node] = community"
   ]
  },
  {
   "cell_type": "code",
   "execution_count": null,
   "metadata": {},
   "outputs": [],
   "source": [
    "# policy = 'degree'\n",
    "\n",
    "# seeds_number = int(len(G1.nodes) * init_rate)\n",
    "# seeds = list({k: v for k, v in sorted(dict(degreenew).items(), key=lambda item: item[1], reverse=True)}.keys())[:seeds_number]\n",
    "policy = 'mia'\n",
    "\n",
    "init_rate = 0.02\n",
    "# nodes = G2_new.nodes\n",
    "# edges = G2_new.edges\n",
    "# # nodes = G_new.vs\n",
    "# # edges = G_new.es\n",
    "nodes = G2.nodes()\n",
    "edges = G2.edges()\n",
    "seeds_number = int(len(nodes) * init_rate)\n",
    "\n",
    "if policy == 'degree':\n",
    "    seeds = degree(edges, seeds_number)\n",
    "    # seeds = list({k: v for k, v in sorted(dict(new_degree).items(), key=lambda item: item[1], reverse=True)}.keys())[:seeds_number]\n",
    "if policy == 'random':\n",
    "    seeds = random(nodes, seeds_number)\n",
    "if policy == 'degree_discount':\n",
    "    seeds = degree_discount(edges, seeds_number)\n",
    "if policy == 'mia':\n",
    "   seeds = mia(nodes, edges, seeds_number) \n",
    "if policy == 'degree_neighbor_fix':\n",
    "    seeds = degree_neighbor_fix(edges, seeds_number)\n",
    "if policy == 'degree_neighbor':\n",
    "    seeds = degree_neighbor(edges, seeds_number)\n",
    "print(f'Number of seeds: {len(seeds)}')"
   ]
  },
  {
   "cell_type": "code",
   "execution_count": null,
   "metadata": {},
   "outputs": [],
   "source": [
    "print(seeds)"
   ]
  },
  {
   "attachments": {},
   "cell_type": "markdown",
   "metadata": {},
   "source": [
    "Use louvain communities without fairness measure and different centrality measures"
   ]
  },
  {
   "cell_type": "code",
   "execution_count": null,
   "metadata": {},
   "outputs": [],
   "source": [
    "import community\n",
    "\n",
    "# Partition into communities\n",
    "partition = community.best_partition(G2)\n",
    "for node in G2.nodes:\n",
    "    G2.nodes[node]['community'] = partition[node]\n",
    "print(len(partition))\n",
    "\n",
    "num_distinct_values = len(set(partition.values()))\n",
    "\n",
    "print(\"The dictionary has\", num_distinct_values, \"distinct values.\")"
   ]
  },
  {
   "cell_type": "code",
   "execution_count": null,
   "metadata": {},
   "outputs": [],
   "source": [
    "# Calculate centralities (can also be done from the cell above, have to check to decide), for fairness this cell can be used to removed the selected nodes\n",
    "\n",
    "seeds = set()\n",
    "for community_id in set(partition.values()):\n",
    "    community_nodes = [node for node in G2.nodes if G2.nodes[node]['community'] == community_id]\n",
    "    max_degree_node = max(community_nodes, key=lambda node: pagerank[node])\n",
    "    seeds.add(max_degree_node)\n",
    "print(\"Number of seeds:\", len(seeds))"
   ]
  },
  {
   "cell_type": "code",
   "execution_count": null,
   "metadata": {},
   "outputs": [],
   "source": [
    "# Create a copy of the original graph to be modified later, by removing nodes\n",
    "G2_copy_comm = G2.copy()\n",
    "\n",
    "\n",
    "G2_copy_comm.remove_nodes_from(seeds)\n",
    "print(G2_copy_comm)"
   ]
  },
  {
   "cell_type": "code",
   "execution_count": null,
   "metadata": {},
   "outputs": [],
   "source": [
    "# Centrality measures\n",
    "\n",
    "# Degree\n",
    "# sort_degree = sorted(dict(G2.degree).items(), key=lambda item: item[1], reverse=True)\n",
    "# print(sort_degree)\n",
    "\n",
    "# Degree centrality\n",
    "degree_centrality_after = nx.centrality.degree_centrality(G2_copy_comm)\n",
    "sort_degree_centrality_after = sorted(degree_centrality_after.items(), key=lambda item: item[1], reverse=True)\n",
    "print(\"Degree centrality done\")\n",
    "\n",
    "# Betweenness\n",
    "\n",
    "betweenness_after = nx.betweenness_centrality(G2_copy_comm)\n",
    "sort_betweenness_after = sorted(betweenness_after.items(), key=lambda item: item[1], reverse=True)\n",
    "print(\"Betweenness centrality done\")\n",
    "\n",
    "# Closeness\n",
    "\n",
    "closeness_after = nx.closeness_centrality(G2_copy_comm)\n",
    "sort_closeness_after = sorted(closeness_after.items(), key=lambda item: item[1], reverse=True)\n",
    "print(\"Closeness centrality done\")\n",
    "\n",
    "\n",
    "# Influence maximization\n",
    "# Pagerank\n",
    "\n",
    "pagerank_after = nx.pagerank(G2_copy_comm)\n",
    "sort_pagerank_after = sorted(pagerank_after.items(), key=lambda item: item[1], reverse=True)\n",
    "print(\"Pagerank done\")\n",
    "\n",
    "# Eigenvector\n",
    "\n",
    "eigenvector_after = nx.eigenvector_centrality(G2_copy_comm)\n",
    "sort_eigenvector_after = sorted(eigenvector_after.items(), key=lambda item: item[1], reverse=True)\n",
    "print(\"Eigenvector done\")"
   ]
  },
  {
   "cell_type": "code",
   "execution_count": null,
   "metadata": {},
   "outputs": [],
   "source": [
    "import community\n",
    "\n",
    "# Partition into communities\n",
    "partition = community.best_partition(G2_copy_comm)\n",
    "for node in G2_copy_comm.nodes:\n",
    "    G2_copy_comm.nodes[node]['community'] = partition[node]\n",
    "print(len(partition))\n",
    "\n",
    "num_distinct_values = len(set(partition.values()))\n",
    "\n",
    "print(\"The dictionary has\", num_distinct_values, \"distinct values.\")"
   ]
  },
  {
   "cell_type": "code",
   "execution_count": null,
   "metadata": {},
   "outputs": [],
   "source": [
    "# Calculate centralities (can also be done from the cell above, have to check to decide)\n",
    "\n",
    "seeds_after = set()\n",
    "for community_id in set(partition.values()):\n",
    "    community_nodes = [node for node in G2_copy_comm.nodes if G2_copy_comm.nodes[node]['community'] == community_id]\n",
    "    max_degree_node = max(community_nodes, key=lambda node: pagerank_after[node])\n",
    "    seeds_after.add(max_degree_node)\n",
    "print(\"Number of seeds:\", len(seeds_after))"
   ]
  },
  {
   "attachments": {},
   "cell_type": "markdown",
   "metadata": {},
   "source": [
    "The \"correct\" implementation for the equality fairness is bellow (as implemented in Farnandi's paper)"
   ]
  },
  {
   "cell_type": "code",
   "execution_count": 4,
   "metadata": {},
   "outputs": [
    {
     "name": "stdout",
     "output_type": "stream",
     "text": [
      "7624\n",
      "The dictionary has 29 distinct values.\n"
     ]
    }
   ],
   "source": [
    "import community\n",
    "# Calculcate communities using louvain method\n",
    "partition_original = community.best_partition(G2)\n",
    "for node in G2.nodes:\n",
    "    G2.nodes[node]['community'] = partition_original[node]\n",
    "print(len(partition_original))\n",
    "\n",
    "num_distinct_values = len(set(partition_original.values()))\n",
    "\n",
    "print(\"The dictionary has\", num_distinct_values, \"distinct values.\")"
   ]
  },
  {
   "cell_type": "code",
   "execution_count": 5,
   "metadata": {},
   "outputs": [
    {
     "name": "stdout",
     "output_type": "stream",
     "text": [
      "Number of seeds: 29\n"
     ]
    }
   ],
   "source": [
    "# Create a dictionary to store the population ratio of each community:\n",
    "\n",
    "community_sizes = {}\n",
    "for c in set(partition_original.values()):\n",
    "    nodes_in_community = [n for n in partition_original.keys() if partition_original[n] == c]\n",
    "    community_sizes[c] = len(nodes_in_community)\n",
    "\n",
    "# Calculate the centralities for each node in the graph\n",
    "\n",
    "# closeness_centrality = nx.closeness_centrality(G2)\n",
    "# betweenness_centrality = nx.betweenness_centrality(G2)\n",
    "# degree_centrality = nx.degree_centrality(G2)\n",
    "# eigen_centrality = nx.eigenvector_centrality(G2)\n",
    "pagerank_centrality = nx.pagerank(G2)\n",
    "\n",
    "# Create a dictionary to store the centralities for each community:\n",
    "\n",
    "# community_closeness = {}\n",
    "# community_betweenness = {}\n",
    "# community_degree = {}\n",
    "# community_eigen = {}\n",
    "community_pagerank = {}\n",
    "for node in G2.nodes():\n",
    "    community = partition_original[node]\n",
    "    # if community not in community_closeness:\n",
    "    #     community_closeness[community] = 0\n",
    "    # if community not in community_betweenness:\n",
    "    #     community_betweenness[community] = 0\n",
    "    # if community not in community_degree:\n",
    "    #     community_degree[community] = 0\n",
    "    # if community not in community_eigen:\n",
    "    #     community_eigen[community] = 0\n",
    "    if community not in community_pagerank:\n",
    "        community_pagerank[community] = 0\n",
    "\n",
    "    # community_closeness[community] += closeness_centrality[node]\n",
    "    # community_betweenness[community] += betweenness_centrality[node]\n",
    "    # community_degree[community] += degree_centrality[node]\n",
    "    # community_eigen[community] += eigen_centrality[node]\n",
    "    community_pagerank[community] += pagerank_centrality[node]\n",
    "\n",
    "\n",
    "# Calculate the total centrality for each community\n",
    "\n",
    "# for community in community_closeness:\n",
    "#     community_closeness[community] /= community_sizes[community]\n",
    "# for community in community_betweenness:\n",
    "#     community_betweenness[community] /= community_sizes[community]\n",
    "# for community in community_degree:\n",
    "#     community_degree[community] /= community_sizes[community]\n",
    "# for community in community_eigen:\n",
    "#     community_eigen[community] /= community_sizes[community]\n",
    "for community in community_pagerank:\n",
    "    community_pagerank[community] /= community_sizes[community]\n",
    "\n",
    "# Calculate the number of seeds for each community proportional to the population ratio using the centralities:\n",
    "seeds = {}\n",
    "for node in G2.nodes():\n",
    "    community = partition_original[node]\n",
    "    if community not in seeds:\n",
    "        seeds[community] = []\n",
    "        # if len(seeds[community]) < community_sizes[community] * community_closeness[community]:\n",
    "        #     seeds[community].append(node)\n",
    "        # if len(seeds[community]) < community_sizes[community] * community_betweenness[community]:\n",
    "        #     seeds[community].append(node)\n",
    "        # if len(seeds[community]) < community_sizes[community] * community_degree[community]:\n",
    "        #     seeds[community].append(node)\n",
    "        # if len(seeds[community]) < community_sizes[community] * community_eigen[community]:\n",
    "        #     seeds[community].append(node)\n",
    "        if len(seeds[community]) < community_sizes[community] * community_pagerank[community]:\n",
    "            seeds[community].append(node)\n",
    "\n",
    "print(\"Number of seeds:\", len(seeds))"
   ]
  },
  {
   "cell_type": "code",
   "execution_count": 8,
   "metadata": {},
   "outputs": [
    {
     "name": "stdout",
     "output_type": "stream",
     "text": [
      "Graph with 7596 nodes and 27593 edges\n"
     ]
    }
   ],
   "source": [
    "# Create a copy of the original graph to be modified later, by removing nodes (fair version)\n",
    "G2_copy_comm_fair = G2.copy()\n",
    "\n",
    "\n",
    "G2_copy_comm_fair.remove_nodes_from(seeds)\n",
    "print(G2_copy_comm_fair)"
   ]
  },
  {
   "cell_type": "code",
   "execution_count": null,
   "metadata": {},
   "outputs": [],
   "source": [
    "degree_dict = dict(G2_copy_comm_fair.degree())\n",
    "weights = []\n",
    "for u, v, data in G2_copy_comm_fair.edges(data=True):\n",
    "    ratio = 1 / degree_dict[v]\n",
    "    data['weight'] = ratio\n",
    "    weights.append(ratio)\n",
    "\n",
    "print(weights)"
   ]
  },
  {
   "cell_type": "code",
   "execution_count": 10,
   "metadata": {},
   "outputs": [
    {
     "name": "stdout",
     "output_type": "stream",
     "text": [
      "7596\n",
      "The dictionary has 62 distinct values.\n"
     ]
    }
   ],
   "source": [
    "import community\n",
    "# Calculcate communities using louvain method\n",
    "partition = community.best_partition(G2_copy_comm_fair)\n",
    "for node in G2_copy_comm_fair.nodes:\n",
    "    G2_copy_comm_fair.nodes[node]['community'] = partition[node]\n",
    "print(len(partition))\n",
    "\n",
    "num_distinct_values = len(set(partition.values()))\n",
    "\n",
    "print(\"The dictionary has\", num_distinct_values, \"distinct values.\")"
   ]
  },
  {
   "cell_type": "code",
   "execution_count": 11,
   "metadata": {},
   "outputs": [],
   "source": [
    "community_sizes = {}\n",
    "for c in set(partition.values()):\n",
    "    nodes_in_community = [n for n in partition.keys() if partition[n] == c]\n",
    "    community_sizes[c] = len(nodes_in_community)\n",
    "\n",
    "# Calculate the centralities for each node in the graph\n",
    "\n",
    "closeness_centrality = nx.closeness_centrality(G2_copy_comm_fair)\n",
    "betweenness_centrality = nx.betweenness_centrality(G2_copy_comm_fair)\n",
    "degree_centrality = nx.degree_centrality(G2_copy_comm_fair)\n",
    "eigen_centrality = nx.eigenvector_centrality(G2_copy_comm_fair)\n",
    "pagerank_centrality = nx.pagerank(G2_copy_comm_fair)"
   ]
  },
  {
   "cell_type": "code",
   "execution_count": 24,
   "metadata": {},
   "outputs": [
    {
     "name": "stdout",
     "output_type": "stream",
     "text": [
      "Number of seeds: 62\n"
     ]
    }
   ],
   "source": [
    "# Create a dictionary to store the population ratio of each community:\n",
    "\n",
    "# community_sizes = {}\n",
    "# for c in set(partition.values()):\n",
    "#     nodes_in_community = [n for n in partition.keys() if partition[n] == c]\n",
    "#     community_sizes[c] = len(nodes_in_community)\n",
    "\n",
    "# # Calculate the centralities for each node in the graph\n",
    "\n",
    "# # closeness_centrality = nx.closeness_centrality(G2_copy_comm_fair)\n",
    "# # betweenness_centrality = nx.betweenness_centrality(G2_copy_comm_fair)\n",
    "# degree_centrality = nx.degree_centrality(G2_copy_comm_fair)\n",
    "# # eigen_centrality = nx.eigenvector_centrality(G2_copy_comm_fair)\n",
    "# # pagerank_centrality = nx.pagerank(G2_copy_comm_fair)\n",
    "\n",
    "# Create a dictionary to store the centralities for each community:\n",
    "\n",
    "community_closeness = {}\n",
    "community_betweenness = {}\n",
    "community_degree = {}\n",
    "community_eigen = {}\n",
    "community_pagerank = {}\n",
    "for node in G2_copy_comm_fair.nodes():\n",
    "    community = partition[node]\n",
    "    if community not in community_closeness:\n",
    "        community_closeness[community] = 0\n",
    "    # if community not in community_betweenness:\n",
    "    #     community_betweenness[community] = 0\n",
    "    # if community not in community_degree:\n",
    "    #     community_degree[community] = 0\n",
    "    # if community not in community_eigen:\n",
    "    #     community_eigen[community] = 0\n",
    "    # if community not in community_pagerank:\n",
    "    #     community_pagerank[community] = 0\n",
    "\n",
    "    community_closeness[community] += closeness_centrality[node]\n",
    "    # community_betweenness[community] += betweenness_centrality[node]\n",
    "    # community_degree[community] += degree_centrality[node]\n",
    "    # community_eigen[community] += eigen_centrality[node]\n",
    "    # community_pagerank[community] += pagerank_centrality[node]\n",
    "\n",
    "\n",
    "# Calculate the total centrality for each community\n",
    "\n",
    "for community in community_closeness:\n",
    "    community_closeness[community] /= community_sizes[community]\n",
    "# for community in community_betweenness:\n",
    "#     community_betweenness[community] /= community_sizes[community]\n",
    "# for community in community_degree:\n",
    "#     community_degree[community] /= community_sizes[community]\n",
    "# for community in community_eigen:\n",
    "#     community_eigen[community] /= community_sizes[community]\n",
    "# for community in community_pagerank:\n",
    "#     community_pagerank[community] /= community_sizes[community]\n",
    "\n",
    "# Calculate the number of seeds for each community proportional to the population ratio using the centralities:\n",
    "seeds = {}\n",
    "for node in G2_copy_comm_fair.nodes():\n",
    "    community = partition[node]\n",
    "    if community not in seeds:\n",
    "        seeds[community] = []\n",
    "        if len(seeds[community]) < community_sizes[community] * community_closeness[community]:\n",
    "            seeds[community].append(node)\n",
    "        # if len(seeds[community]) < community_sizes[community] * community_betweenness[community]:\n",
    "        #     seeds[community].append(node)\n",
    "        # if len(seeds[community]) < community_sizes[community] * community_degree[community]:\n",
    "        #     seeds[community].append(node)\n",
    "        # if len(seeds[community]) < community_sizes[community] * community_eigen[community]:\n",
    "        #     seeds[community].append(node)\n",
    "        # if len(seeds[community]) < community_sizes[community] * community_pagerank[community]:\n",
    "        #     seeds[community].append(node)\n",
    "\n",
    "print(\"Number of seeds:\", len(seeds))"
   ]
  },
  {
   "attachments": {},
   "cell_type": "markdown",
   "metadata": {},
   "source": [
    "The new correct implementation for fairness"
   ]
  },
  {
   "cell_type": "code",
   "execution_count": 4,
   "metadata": {},
   "outputs": [
    {
     "name": "stdout",
     "output_type": "stream",
     "text": [
      "The dictionary has 29 distinct values.\n"
     ]
    }
   ],
   "source": [
    "import community\n",
    "\n",
    "# Compute the Louvain communities\n",
    "partition = community.best_partition(G2)\n",
    "\n",
    "# Compute the size of each community\n",
    "community_sizes = np.bincount(list(partition.values()))\n",
    "\n",
    "# Compute the total number of nodes in the graph\n",
    "total_nodes = len(G2.nodes())\n",
    "\n",
    "# Compute the number of communities and print it\n",
    "num_distinct_values = len(set(partition.values()))\n",
    "\n",
    "print(\"The dictionary has\", num_distinct_values, \"distinct values.\")\n",
    "\n",
    "proportional_sizes = community_sizes / total_nodes"
   ]
  },
  {
   "cell_type": "code",
   "execution_count": 5,
   "metadata": {},
   "outputs": [
    {
     "name": "stdout",
     "output_type": "stream",
     "text": [
      "1563\n"
     ]
    }
   ],
   "source": [
    "# Initialize a dictionary to store the seed nodes\n",
    "seeds = {}\n",
    "for community_id in set(partition.values()):\n",
    "    nodes_in_community = [node for node, comm in partition.items() if comm == community_id]\n",
    "\n",
    "    # Compute the number of seed nodes for the current community\n",
    "    num_seeds = int(round(proportional_sizes[community_id] * len(nodes_in_community)))   \n",
    "\n",
    "    # Sort the nodes in the current community by centrality measure\n",
    "    # nodes_sorted_by_dc = sorted(nodes_in_community, key=lambda node: degree_centrality[node], reverse=True)\n",
    "    nodes_sorted_by_bc = sorted(nodes_in_community, key=lambda node: betweenness[node], reverse=True)\n",
    "    # nodes_sorted_by_cc = sorted(nodes_in_community, key=lambda node: closeness[node], reverse=True)\n",
    "    # nodes_sorted_by_pc = sorted(nodes_in_community, key=lambda node: pagerank[node], reverse=True)\n",
    "    # nodes_sorted_by_ec = sorted(nodes_in_community, key=lambda node: eigenvector[node], reverse=True)\n",
    "    \n",
    "    # Add the top `num_seeds` nodes to the seed dictionary \n",
    "    # seeds.update({node: degree_centrality[node] for node in nodes_sorted_by_dc[:num_seeds]})\n",
    "    seeds.update({node: betweenness[node] for node in nodes_sorted_by_bc[:num_seeds]})\n",
    "    # seeds.update({node: closeness[node] for node in nodes_sorted_by_cc[:num_seeds]})\n",
    "    # seeds.update({node: pagerank[node] for node in nodes_sorted_by_pc[:num_seeds]})\n",
    "    # seeds.update({node: eigenvector[node] for node in nodes_sorted_by_ec[:num_seeds]})\n",
    "\n",
    "print(len(seeds))\n"
   ]
  },
  {
   "cell_type": "code",
   "execution_count": 29,
   "metadata": {},
   "outputs": [
    {
     "name": "stdout",
     "output_type": "stream",
     "text": [
      "{11: 0.44881580653196423, 789: 0.42554206110590714, 311: 0.4209970900944556, 72: 0.4207951003666905, 600: 0.41749003353053654, 1055: 0.41565980471055675, 36: 0.4148978477626514, 173: 0.414554653087988, 87: 0.4133335789993636, 1297: 0.4111536773228361, 762: 0.4111054961923125, 784: 0.4088774768947667, 127: 0.40439985611032836, 319: 0.40435324478528106, 407: 0.4043066442038837, 306: 0.4028210761002524, 634: 0.4014382368414119, 1167: 0.4007503714595726, 310: 0.3997002109783638, 663: 0.39777410870878155, 432: 0.39772901215997947, 1661: 0.39716616684672235, 86: 0.39671703627243, 290: 0.39669460640663745, 1026: 0.3956655672201092, 47: 0.3936675926339111, 695: 0.3928520438697759, 6: 0.3923467820563774, 697: 0.3918428182460738, 20: 0.39103480485505193, 56: 0.3895800945871292, 166: 0.38947196799967787, 769: 0.3892127089096465, 29: 0.3880932299084129, 1286: 0.38768579420456384, 71: 0.38738612541487394, 3755: 0.38727921308793933, 371: 0.38725783770362054, 1471: 0.38700151701677865, 1185: 0.3864260342300048, 978: 0.38614955990722055, 749: 0.3858522604220302, 214: 0.3854918687717267, 633: 0.38470980938228955, 182: 0.38365799997343597, 805: 0.3831551716641654, 308: 0.38305058161894395, 922: 0.3825493431936207, 788: 0.3819454275184647, 1186: 0.3815092982172909, 1193: 0.3814885549975096, 317: 0.38103277416716613, 313: 0.3808466321182325, 113: 0.3792819884055461, 637: 0.3789132960800452, 959: 0.3786270305711617, 1075: 0.3785248976863507, 1279: 0.3776284985744993, 710: 0.3774050617779677, 742: 0.37726301234079995, 865: 0.3770400077120854, 707: 0.376999489738015, 259: 0.3767767964511973, 1648: 0.37639276345229317, 643: 0.3758886479971176, 704: 0.3756069327363061, 1006: 0.3754260529463426, 556: 0.3752252796146423, 271: 0.37518515071462477, 280: 0.37508486600631863, 1201: 0.37474429864413805, 14: 0.37462424600962124, 706: 0.37450427027030675, 3136: 0.3742645491819596, 35: 0.37410490554594494, 1125: 0.37394539804477944, 1514: 0.3739055424201544, 1859: 0.37378602650440557, 147: 0.3737262971936826, 1127: 0.3735870030091154, 986: 0.3726940137848825, 941: 0.3725357068872357, 1497: 0.37237753441854354, 28: 0.37219975086277635, 143: 0.3721405273954703, 1032: 0.3720418634876821, 299: 0.37196297002142803, 90: 0.37127407680782076, 579: 0.3710188516479402, 857: 0.37099923347685054, 1259: 0.37094039140968527, 650: 0.3703529956988228, 103: 0.3703529956988228, 871: 0.37031390212245724, 761: 0.37029435842907943, 994: 0.37025527723030066, 312: 0.3697090053490461, 171: 0.36967004760348776, 791: 0.36967004760348776, 1241: 0.36949483930244864, 1034: 0.36939757310277965, 1322: 0.3693003580985419, 960: 0.36924205365299423, 27: 0.3689508073573222, 971: 0.36887321925840894, 1253: 0.36869876529239076, 1774: 0.3685051209828885, 1506: 0.368273016140783, 937: 0.36823436042375335, 545: 0.3679832959308857, 298: 0.36792540658176176, 1199: 0.3678868238000313, 315: 0.367751847765302, 667: 0.3676554969353488, 406: 0.3673475132729946, 1248: 0.36732828142579954, 659: 0.3671744991111098, 59: 0.36705924684876784, 741: 0.36694406691669873, 1234: 0.36692487728868306, 178: 0.3668289592468342, 665: 0.36673309133985976, 8: 0.3666181159741978, 1022: 0.3661016177153247, 255: 0.3658153025815536, 1603: 0.36560562261029633, 759: 0.3649970089743639, 325: 0.3643714947815848, 1029: 0.3642201777156456, 810: 0.36408787834124834, 644: 0.3640689862761622, 686: 0.36376697965129595, 1261: 0.3637104091811828, 1573: 0.3632396719566265, 154: 0.36305171807483166, 635: 0.36263890342744454, 1413: 0.36258268324707754, 1377: 0.36226443120168306, 275: 0.36205880094505377, 844: 0.3618907315614915, 1142: 0.3615550604717199, 982: 0.361536430335147, 415: 0.36129441315727073, 1484: 0.3612200115071148, 42: 0.3611828221720476, 1204: 0.3611828221720476, 795: 0.3611084664701079, 1726: 0.36079279598468644, 1222: 0.3604406402709441, 1140: 0.36036658980555714, 1580: 0.36025557113956647, 1464: 0.36014462085587706, 948: 0.36014462085587706, 852: 0.35994138939692183, 1468: 0.3597383871777173, 1080: 0.3596646249494667, 1718: 0.3595356138106173, 887: 0.3594987704828712, 89: 0.35946193470537413, 1752: 0.35944351964724375, 132: 0.35940669519076923, 66: 0.35929626707876877, 230: 0.3591491351102681, 861: 0.3588368794309926, 304: 0.3586167903661741, 282: 0.35854348732762004, 549: 0.35854348732762004, 817: 0.3585068470448213, 1394: 0.35828716251412945, 447: 0.3581957067344393, 1593: 0.3581957067344393, 1768: 0.35817742118097895, 383: 0.3580494745618594, 1051: 0.35775736811718317, 963: 0.3576114935532211, 95: 0.3574475267978092, 1884: 0.3574111101581273, 730: 0.35704735145866356, 339: 0.3569746885532535, 1638: 0.3569565274478122, 1411: 0.35684759960910367, 180: 0.3565936930023479, 647: 0.35635824589944626, 439: 0.35624968283900466, 150: 0.35614118590498944, 1490: 0.3559785643589141, 739: 0.3558160912578831, 1221: 0.3556898257890194, 673: 0.3554015552382837, 733: 0.355221623304688, 956: 0.3551856587786877, 1476: 0.35513172564226336, 1396: 0.3549700244619142, 1654: 0.3548084704684803, 1556: 0.35457537414161094, 110: 0.35452162616917776, 1525: 0.3543604799754645, 1420: 0.3543604799754645, 55: 0.354092228287368, 151: 0.3540207630815983, 989: 0.3538243824263337, 94: 0.353788700257876, 227: 0.35373519049731267, 893: 0.353628219520901, 75: 0.3535925769044095, 878: 0.35336107491509855, 1296: 0.35336107491509855, 664: 0.3531832026333533, 1382: 0.35309433362760795, 334: 0.3530765651929447, 1604: 0.3530232706170665, 1053: 0.35298774983720865, 1597: 0.3529167297175292, 232: 0.35286348337930984, 895: 0.3527747751779474, 1520: 0.352739304384606, 1441: 0.3525443424537331, 243: 0.3524203879408407, 626: 0.3524026872684177, 1375: 0.35226114587379237, 192: 0.3520313834486075, 913: 0.35181956092434424, 1418: 0.3517666451175272, 1524: 0.35171374522603627, 756: 0.3516608612426923, 30: 0.3503264181902435, 1114: 0.35027395055235366, 1203: 0.35015158716010564, 1380: 0.35011664189192604, 1531: 0.35004677227670106, 1190: 0.35002930922994246, 696: 0.34999438836305663, 583: 0.34999438836305663, 1330: 0.34962813950140503, 1156: 0.34941919838218116, 798: 0.3493496068270363, 691: 0.3493148214435028, 157: 0.34928004298656895, 80: 0.34917574915468286, 1123: 0.3490367875591582, 33: 0.34893263892551213, 838: 0.34893263892551213, 321: 0.34879387072550194, 58: 0.34879387072550194, 853: 0.34875919591978316, 689: 0.3486898669870886, 356: 0.34862056561235205, 943: 0.3484993544684944, 74: 0.34846473819290774, 1129: 0.34843012879347457, 820: 0.3482053351619949, 1587: 0.3481362262337103, 771: 0.34811895328772996, 999: 0.3479118115492734, 405: 0.34775661694657994, 553: 0.3476015607388752, 246: 0.3475843408062121, 907: 0.3475326912434592, 842: 0.3475326912434592, 1196: 0.3473778346130407, 1507: 0.34730905373300647, 1563: 0.3472574859447759, 23: 0.3472403000848361, 1569: 0.3471543962947997, 226: 0.3471372206369581, 10: 0.3471372206369581, 708: 0.347102874419422, 1425: 0.3470170386030069, 1864: 0.3467255141092211, 1014: 0.3466398648048119, 265: 0.3465884955302409, 2409: 0.34640027171138965, 1533: 0.3461097821386246, 2565: 0.48741490125142045, 2485: 0.43450195092359406, 3352: 0.4286618709380619, 2328: 0.42800814393425224, 2871: 0.42577447075151387, 68: 0.42569697266801343, 2651: 0.4210223524460964, 2237: 0.4198634135308597, 2576: 0.41838625542720315, 2145: 0.4175148767339599, 1305: 0.4132362037525294, 825: 0.41316320242104565, 2535: 0.4125558595586639, 2693: 0.41149126171568806, 988: 0.4110091678000232, 2790: 0.4106964120530436, 2297: 0.40956964003935536, 2660: 0.4089489714701986, 3026: 0.4077369539466642, 3084: 0.4055451999025604, 3568: 0.4053811823153569, 3028: 0.4052641080987811, 3631: 0.4051704974022173, 3454: 0.4045397545845363, 2859: 0.4029598841898804, 2653: 0.40272859048985177, 2686: 0.4025437466158461, 122: 0.40164505715920756, 2411: 0.40162206660069816, 3258: 0.4014612063577386, 3032: 0.4013004749207388, 3394: 0.4010252345401347, 2654: 0.40081905190026834, 2326: 0.4005902085934454, 2066: 0.4005673386340601, 3615: 0.40033878258097666, 2967: 0.4001789484694118, 3291: 0.39960915272321434, 2940: 0.398950219111514, 2585: 0.3987008468868165, 2384: 0.3978192154852978, 1385: 0.39759378384508404, 2560: 0.39759378384508404, 3034: 0.3974811638066053, 4065: 0.3973236028945126, 1972: 0.39682922365896706, 2144: 0.3967619036142387, 2958: 0.3964704471669886, 3439: 0.39606759827909666, 2657: 0.3959781874549465, 3404: 0.39582181561063956, 2619: 0.39557633779749657, 2623: 0.39517530292955205, 856: 0.39515304705531634, 2542: 0.39479729369312383, 974: 0.3945752729453491, 3276: 0.39444218031899014, 2713: 0.39437566766984417, 4735: 0.3943535017712566, 3010: 0.39353511153257037, 2655: 0.39351304001762183, 3562: 0.3930501094344405, 2700: 0.3928960411868181, 3192: 0.39263220500918844, 3144: 0.3922809741425806, 3812: 0.3921275081604089, 2981: 0.3920836827892818, 3005: 0.39190847922215255, 2932: 0.39096943628185654, 3117: 0.39086053721320246, 3635: 0.39081699456994357, 2595: 0.3907081803939301, 3660: 0.39031695057377597, 1522: 0.39018671468769867, 204: 0.3899048348715864, 2257: 0.38970992576728486, 8293: 0.3895800945871292, 2900: 0.38923430064985004, 2290: 0.38923430064985004, 3024: 0.3890832087569565, 2210: 0.38904006118736884, 2506: 0.3890184909910289, 879: 0.38878137660077555, 3458: 0.3886952248359757, 2727: 0.3880288410305385, 1729: 0.38764295599525955, 346: 0.3876001272519167, 1990: 0.38751449815056876, 1688: 0.38732197093647236, 4256: 0.387172359756881, 2674: 0.38685215325104466, 2747: 0.38683082498148624, 2508: 0.3867029047351299, 8294: 0.38653247595384516, 3645: 0.38636219733007693, 2229: 0.3853436678116321, 2510: 0.3853225055474873, 2697: 0.38517443475593965, 2746: 0.38511101067644754, 4011: 0.3845411324955715, 3650: 0.3845200582843315, 3007: 0.3843936615084752, 465: 0.38428839432107553, 2114: 0.384162149776292, 3480: 0.3840570093335266, 3408: 0.38403598815074974, 417: 0.3839519264262995, 2923: 0.3838049069259995, 3892: 0.3835741036253114, 3009: 0.3834692847742361, 608: 0.3834064209570599, 2252: 0.38334357774759314, 2612: 0.3831342490861244, 3260: 0.3827997983258332, 3661: 0.38263279181513865, 1767: 0.38252848672523154, 2134: 0.38248678061023755, 4013: 0.3823825550991442, 3457: 0.3823617168127628, 4138: 0.38223673477414455, 4179: 0.3816753252197246, 3806: 0.3816545639422431, 2324: 0.3815092982172909, 3059: 0.3813848727245854, 172: 0.38136414303262295, 3140: 0.38134341559401036, 4162: 0.3813226904083803, 2209: 0.38130196747536527, 4110: 0.3810534678495735, 3125: 0.3808879812992887, 2109: 0.3807432984325047, 3680: 0.38049552622094346, 3724: 0.3803717610058656, 2544: 0.3802480762797636, 4055: 0.38006269993576713, 4485: 0.3799186432485487, 1453: 0.3796308572402444, 3529: 0.37954871272931934, 1307: 0.3794460820677193, 4269: 0.3791999947853968, 2289: 0.37893376018115127, 2842: 0.37893376018115127, 4510: 0.3787701092374324, 3541: 0.37870877657009755, 2973: 0.37858617080419776, 3516: 0.3785453198550956, 2819: 0.37838200418024037, 4422: 0.3783615996286776, 2016: 0.37828000342431517, 1571: 0.3781984424058968, 3903: 0.378178057646429, 2356: 0.3781576750843051, 3580: 0.3780354258358942, 4299: 0.37785220009231496, 4103: 0.3777911643072473, 3557: 0.3776284985744993, 3587: 0.37752690360582175, 2912: 0.37746597285959743, 4384: 0.37722244642549446, 1706: 0.3771210697938295, 4290: 0.3770400077120854, 4424: 0.37689823289182406, 3473: 0.3768172665689687, 4263: 0.3767970304234035, 4463: 0.3767161075712321, 4021: 0.3766352194704062, 3148: 0.37649374884708076, 3926: 0.3764533481872624, 3807: 0.37633219821466407, 1915: 0.37627165246496475, 457: 0.46660487487625174, 5524: 0.42829553799988995, 737: 0.42766899326552466, 4310: 0.4209970900944556, 4037: 0.42071940418026005, 5079: 0.42013997027031125, 5189: 0.41657290883537357, 2658: 0.4144077434005196, 4712: 0.41435879664053604, 5697: 0.41416312517054465, 5802: 0.41408979600532325, 1098: 0.41151539610053944, 5022: 0.41014423940575184, 4828: 0.4086155438538348, 5254: 0.4085203786616709, 4967: 0.40709820153839266, 5179: 0.4069565282474449, 3642: 0.40683854247444023, 5543: 0.40674420310227233, 3459: 0.4053811823153569, 4632: 0.40432994315185833, 3334: 0.4038877218232902, 5002: 0.40386447381075213, 5814: 0.4028442041404488, 5800: 0.40180606479865977, 5531: 0.4014841785027579, 3586: 0.4005902085934454, 4483: 0.4000648593633366, 5188: 0.4000420493479786, 4441: 0.39759378384508404, 2774: 0.39750368270999925, 7632: 0.39653766833470083, 7092: 0.3960899572944675, 6624: 0.3955540367298567, 6327: 0.3955317381765712, 6305: 0.39546485759859074, 5404: 0.39526435150212363, 3634: 0.3949306261124731, 1982: 0.3948195095106745, 5714: 0.3944643561879011, 3238: 0.3939549412416731, 2276: 0.39360134093538635, 5796: 0.3921275081604089, 5822: 0.39168969483136257, 2160: 0.39162410713966267, 6006: 0.3914274757887976, 6832: 0.3913838067448093, 4875: 0.39136197587651705, 5233: 0.39105659923721975, 7553: 0.3909912233777764, 7620: 0.39092586937342305, 6914: 0.3908387646788211, 2440: 0.39081699456994357, 109: 0.39068642482956717, 4795: 0.39059942679475573, 6299: 0.3905559423052712, 5210: 0.3904907337218498, 5817: 0.3904472734287255, 2851: 0.3904255469096988, 4717: 0.38880292050948667, 3381: 0.3886952248359757, 7052: 0.38796447351474683, 6560: 0.3874716977862932, 6907: 0.38740751496406584, 5288: 0.38736473822747186, 5806: 0.3867455354158415, 5423: 0.3865111829182062, 6634: 0.3864260342300048, 5818: 0.3863409230501733, 5775: 0.3862771142652608, 896: 0.38619206866546657, 3830: 0.38614955990722055, 4981: 0.38593715640892173, 6784: 0.3859159289100818, 5582: 0.38538599931419293, 7809: 0.38519558075839677, 4687: 0.3850687395595301, 5028: 0.38481530760238014, 6272: 0.38456220901694693, 5445: 0.38447791679073906, 5178: 0.3842042220739348, 6946: 0.384162149776292, 6523: 0.38365799997343597, 6032: 0.38344832787813954, 6229: 0.38321795311126755, 6774: 0.383029670461524, 6913: 0.3829460486581267, 5037: 0.38273715380286916, 7047: 0.38273715380286916, 4709: 0.3822783863743161, 6934: 0.3822159123775234, 5103: 0.3821534587970696, 6665: 0.3820286128451594, 6714: 0.38188306229326713, 6414: 0.38142633887002975, 5773: 0.38142633887002975, 6979: 0.3808673055864834, 4488: 0.3808673055864834, 3803: 0.3808466321182325, 5529: 0.3807639606834643, 5871: 0.380640020805848, 2785: 0.380619372003591, 6496: 0.380103879057056, 5872: 0.3799803684546004, 136: 0.3799803684546004, 5998: 0.37985693809291304, 5563: 0.3797541406968065, 6156: 0.3796719428308548, 6555: 0.3795281821557958, 5605: 0.3794666037595564, 6330: 0.3794255625954033, 5200: 0.37936401749198145, 6715: 0.37932299851403994, 6833: 0.3793024923512919, 4781: 0.3793024923512919, 6004: 0.3792819884055461, 6123: 0.37922048986672774, 3792: 0.3791999947853968, 2620: 0.3791590112679923, 6097: 0.3790975525996433, 5262: 0.37899516574915987, 7280: 0.3785453198550956, 5811: 0.3783615996286776, 6855: 0.378178057646429, 4071: 0.37797433084707194, 6151: 0.3778115073778578, 5804: 0.37777082342724366, 3965: 0.3776081752066195, 5839: 0.37732387757538033, 4764: 0.3772832985704252, 3962: 0.37720216673911067, 5760: 0.37720216673911067, 7478: 0.37708053439642053, 6218: 0.37708053439642053, 5301: 0.37706026996529435, 6337: 0.3770400077120854, 5739: 0.37701974763644264, 4361: 0.3769792340164516, 6270: 0.3769184799094385, 7115: 0.3767363350254616, 6790: 0.37657457618689333, 6770: 0.37653415817936015, 7961: 0.37633219821466407, 6615: 0.37627165246496475, 2433: 0.3756069327363061, 7699: 0.37556672216648096, 5273: 0.37554662010995005, 6437: 0.3755265202052129, 6458: 0.37528548906259074, 1823: 0.37498463489467143, 5902: 0.3749445574474535, 6306: 0.374924521936208, 840: 0.3748243764898871, 5897: 0.37476431489767104, 7587: 0.3745842455562542, 6347: 0.3744842817844896, 5584: 0.374444311213267, 5829: 0.3741647559467895, 6043: 0.37398526216695255, 7021: 0.3737063916652036, 7414: 0.3737063916652036, 967: 0.37366658696885535, 4748: 0.3735870030091154, 5816: 0.3732491490325671, 3873: 0.37318959116611866, 6227: 0.37299120214311826, 5199: 0.37299120214311826, 5596: 0.37283264272884836, 5246: 0.3727930239367832, 7862: 0.3726940137848825, 7378: 0.3726346329339953, 6869: 0.3724763764672823, 7839: 0.3723577723034653, 6221: 0.37233801228583085, 7649: 0.37227874481425144, 6596: 0.37227874481425144, 6044: 0.37218000761267755, 1191: 0.3720221369837856, 5479: 0.3718841100076428, 4983: 0.3718644002286515, 155: 0.371667417285422, 3000: 0.37164773046846744, 5932: 0.3715886825290857, 6505: 0.3715099811243353, 6388: 0.3714509769450049, 6918: 0.3714116512367898, 5819: 0.3714116512367898, 6976: 0.37133302479567065, 6875: 0.37127407680782076, 7225: 0.3711366042588838, 7005: 0.37096000335805207, 7279: 0.3709207815349015, 4994: 0.3708815680047678, 5799: 0.37076397714617404, 6780: 0.37068562465734345, 7063: 0.37068562465734345, 6566: 0.3706464608301213, 3752: 0.37056815799694715, 5922: 0.3705485874578398, 3297: 0.3704116515422974, 7908: 0.3703529956988228, 7131: 0.3703529956988228, 6098: 0.37033344787892947, 6417: 0.37021620427998086, 6739: 0.3700599949110863, 5812: 0.3699819396495569, 5148: 0.3699819396495569, 6930: 0.3699429243654011, 5295: 0.3699429243654011, 6441: 0.3698844168651061, 8174: 0.3698844168651061, 7400: 0.36965057180939875, 5684: 0.36961162637697925, 5439: 0.369553223612883, 5012: 0.3695142986893932, 6618: 0.3695142986893932, 6765: 0.36949483930244864, 7050: 0.36949483930244864, 5185: 0.36945592667654137, 3310: 0.36939757310277965, 6613: 0.36935868095989666, 6620: 0.36926148642251444, 6246: 0.36900901985453866, 6498: 0.36897020948223586, 6262: 0.3689508073573222, 6422: 0.3689508073573222, 5173: 0.36881504959599437, 6955: 0.3687956637852403, 3348: 0.36869876529239076, 6170: 0.368524476260003, 5824: 0.3685051209828885, 6241: 0.3685051209828885, 6243: 0.36846641652737094, 5140: 0.36833101493591247, 6481: 0.3682536872678422, 7381: 0.3682150356081972, 7662: 0.36815707332953074, 6860: 0.36815707332953074, 7910: 0.36804120349948577, 7890: 0.36804120349948577, 5827: 0.3680218989517019, 1612: 0.36786753544351686, 5121: 0.3678289647975988, 5612: 0.36752069056174097, 6994: 0.3673859830094354, 7855: 0.3673090515921996, 6432: 0.36723215238742785, 7277: 0.3671744991111098, 3346: 0.3671360736494269, 7237: 0.3671360736494269, 4046: 0.36705924684876784, 4134: 0.366982452194895, 4798: 0.36692487728868306, 3726: 0.3668289592468342, 6251: 0.366790606070061, 5776: 0.36673309133985976, 5624: 0.3666181159741978, 6789: 0.36656065532178034, 6442: 0.36652235822568024, 6897: 0.36623538487912083, 6094: 0.36617804412683036, 6323: 0.36617804412683036, 6503: 0.3661398269328496, 6328: 0.3661398269328496, 5807: 0.3659870378965206, 7094: 0.36596794823253687, 7795: 0.36596794823253687, 1403: 0.3659488605598601, 7168: 0.3659106911871811, 7351: 0.3658916094865559, 6720: 0.3657009018823203, 6296: 0.36556752480144833, 7510: 0.36556752480144833, 6400: 0.36552943493171125, 4175: 0.36552943493171125, 7726: 0.36547231500751104, 4944: 0.36545327899964564, 5798: 0.3654342449746978, 7833: 0.3653391045828793, 7813: 0.3653200824489325, 6595: 0.3653200824489325, 7108: 0.3653010622957358, 7386: 0.36526302793035537, 8212: 0.36518698295498864, 938: 0.36511096963699835, 7119: 0.36511096963699835, 6494: 0.36501599747758806, 4713: 0.3649970089743639, 6334: 0.3648641447485282, 7624: 0.3648451720406738, 5166: 0.36482620130585464, 7544: 0.36478826575409157, 7012: 0.36478826575409157, 6600: 0.36475033809077756, 6980: 0.3647313772165201, 8134: 0.3647313772165201, 5527: 0.36469346138126707, 6552: 0.36459870627282254, 7144: 0.3645040003903682, 7057: 0.3645040003903682, 7054: 0.3644472004734156, 6443: 0.36439041825573604, 4435: 0.3643525732727942, 1498: 0.3642958205355243, 1074: 0.3642012719187229, 5933: 0.3641634662123941, 6359: 0.3641634662123941, 6576: 0.36408787834124834, 3842: 0.36405009617154555, 7391: 0.3640123218425005, 5289: 0.3639745553516728, 5753: 0.3639367966966231, 6174: 0.36391792030675296, 2511: 0.363861302884105, 6783: 0.3638235677217629, 7871: 0.3637292640494659, 7295: 0.36367270530836043, 8141: 0.3636350092518371, 8083: 0.3636350092518371, 5671: 0.36359732100918263, 7651: 0.3635219679557638, 7924: 0.3635031345722825, 7301: 0.3635031345722825, 7373: 0.36337135550852956, 5614: 0.3632396719566265, 8042: 0.3632208678114716, 4884: 0.3631832653612608, 4401: 0.3631080838127722, 7882: 0.3629014949578047, 3885: 0.36284519333475707, 3571: 0.36277015167334664, 6873: 0.36275139610765156, 4604: 0.3627138907937447, 4879: 0.362620161430265, 5177: 0.36260142137024276, 6736: 0.36258268324707754, 8121: 0.3623205527247197, 7707: 0.361965409797472, 6001: 0.3619467373491977, 4940: 0.36179742708782536, 7810: 0.3617787719662884, 7233: 0.3617228181427127, 6901: 0.3616482399625894, 5857: 0.3616296002223584, 5655: 0.3616109624034529, 5630: 0.3615736925284307, 7214: 0.36149917582122715, 5384: 0.36140607311806927, 6000: 0.3612758098714895, 2223: 0.36125720850140036, 5466: 0.3610527197815158, 7757: 0.3610341413766696, 6407: 0.36092271108612123, 6198: 0.3608855829397282, 6589: 0.36077424431891186, 6599: 0.36077424431891186, 7341: 0.36077424431891186, 4437: 0.3607556945608616, 7992: 0.36066297437617956, 7835: 0.36060736513924024, 7561: 0.3604776769170878, 7443: 0.36042212480167446, 3919: 0.36036658980555714, 5378: 0.36032957598162474, 7143: 0.36025557113956647, 5626: 0.36023707467855404, 7979: 0.3602185801167572, 8163: 0.360015265201611, 7912: 0.3599598555055508, 7860: 0.35994138939692183, 6148: 0.35990446286300065, 5102: 0.35990446286300065, 5617: 0.35988600243712543, 8192: 0.35986754390491854, 5096: 0.3597937287069482, 7927: 0.3597937287069482, 7946: 0.3597199437843731, 5980: 0.35964618911857077, 6948: 0.3594803516504866, 6993: 0.3594251064758054, 7763: 0.35940669519076923, 5738: 0.3593882857918454, 6166: 0.35933306890884964, 1493: 0.3593146670514773, 8219: 0.35918590680424883, 6594: 0.35909399168402667, 7450: 0.35902049345106674, 3770: 0.35902049345106674, 5465: 0.35889194391376966, 5950: 0.35889194391376966, 7618: 0.3588735872085416, 7803: 0.35867178731797345, 2376: 0.35856181027770834, 7683: 0.3585251662500867, 8037: 0.3584519006597628, 3293: 0.3583237579037944, 7788: 0.3583237579037944, 6320: 0.35826886762225274, 4791: 0.35825057459863147, 8128: 0.3581957067344393, 4507: 0.35817742118097895, 8209: 0.3580312039350001, 8051: 0.35790336173812476, 6953: 0.3578668521633274, 4598: 0.3578486001690313, 6632: 0.35783035003642377, 6699: 0.3576114935532211, 8224: 0.3575386008721054, 7238: 0.3573929046207313, 8198: 0.3573564991094121, 2226: 0.35721095120222973, 6570: 0.35717458274863556, 2677: 0.3569928515067771, 6941: 0.35690205521716245, 6563: 0.35682945143234485, 5772: 0.3567206011243173, 5391: 0.35664807113882974, 7965: 0.3564849864604307, 8297: 0.35646687514678643, 5487: 0.35646687514678643, 1667: 0.35643065803983726, 7116: 0.3564125522459716, 6501: 0.3564125522459716, 5421: 0.3562858631754531, 5532: 0.35621350984993644, 8044: 0.35612310950736964, 7231: 0.3560508222629756, 6945: 0.35603275503700194, 7646: 0.3559785643589141, 7529: 0.3559605044652325, 4689: 0.35588828321147337, 5969: 0.35588828321147337, 8178: 0.355834136500365, 7442: 0.3558160912578831, 8168: 0.3557078582263218, 3088: 0.3556717951799157, 7073: 0.35558166954764836, 4341: 0.35556364990190026, 6424: 0.3553835538425871, 5432: 0.3553295605952698, 395: 0.3553115664918315, 6528: 0.35514970153442993, 7101: 0.35509577931647335, 7422: 0.3548084704684803, 7879: 0.3547905291016483, 7059: 0.35470084947748837, 8249: 0.35443208241635665, 7694: 0.35434258388536927, 6803: 0.3542889064590081, 4432: 0.35425313054196694, 7120: 0.3539850412953028, 4673: 0.3539314721304579, 7185: 0.35384222620980366, 335: 0.35336107491509855, 6554: 0.3532187627624948, 8122: 0.3530765651929447, 6951: 0.3530232706170665, 5862: 0.35296999212768876, 6255: 0.3526152127607899, 6023: 0.3524912084156844, 6850: 0.35234959591795295, 7088: 0.35234959591795295, 6982: 0.3520667120033216, 6553: 0.3519430930735452, 7695: 0.35174901005234854, 99: 0.3515375271062777, 7497: 0.35090460132604134, 6606: 0.3505364460188948, 7040: 0.3504839154560266, 1865: 0.35027395055235366, 7389: 0.3500118479254813, 6280: 0.34999438836305663, 7778: 0.34988966755668466, 8002: 0.34983733064989014, 4767: 0.34971527206869346, 7512: 0.3495062268251157, 1063: 0.3494017978942382, 6725: 0.349071517587771, 5835: 0.3490541517095765, 5500: 0.3490194251362581, 6360: 0.3489499927146863, 6302: 0.3488979365248233, 7086: 0.34888058791279386, 5821: 0.34879387072550194, 7791: 0.34872452800766385, 3982: 0.3485686076563265, 5696: 0.3485512917791454, 5887: 0.34839552626814624, 7186: 0.348360930614875, 6712: 0.34825718486693785, 6409: 0.34787731189023735, 6474: 0.3474122352700632, 4813: 0.34730905373300647, 6737: 0.347223115925877, 8237: 0.3469827161621184, 6447: 0.34684549426636, 4221: 0.3467255141092211, 6619: 0.3465029138976837, 6161: 0.34563238933567475, 3345: 0.34542819532858393, 2249: 0.3453941864484689, 7666: 0.34536018426433335, 8073: 0.3452242424480514, 8124: 0.3451732918538986, 6772: 0.34495267962213355, 6616: 0.3449018091488078, 7574: 0.34468154369788745, 7588: 0.34451230008416955, 5125: 0.3441405485341474, 6700: 0.34405617140755146, 6759: 0.3438875412201243, 7201: 0.3435507762578562, 5810: 0.3435339553228651, 7564: 0.3434666880514097, 5196: 0.3434498753494638, 7362: 0.34341625488298155, 1762: 0.343332232507056, 7517: 0.34318109579428696, 6226: 0.34318109579428696, 6204: 0.34318109579428696, 7921: 0.34281221007056223, 7701: 0.3426113337328091, 7110: 0.3425444272574426, 7074: 0.34251098381812045, 5053: 0.34237727533861306, 3809: 0.34216022156998915, 5172: 0.34216022156998915, 7056: 0.3420934911513504, 6663: 0.3419434428341633, 5406: 0.3419434428341633, 4364: 0.34154395674994875, 2914: 0.3414608479420964, 6510: 0.3413611707460444, 6840: 0.3413113539677092, 7593: 0.34126155172734424, 6942: 0.3410956491742439, 6916: 0.3410790677902969, 3142: 0.34099618504637424, 7055: 0.34091334257393696, 5692: 0.340896778909445, 5934: 0.3408139847240587, 8132: 0.3407643275140455, 3227: 0.3407477783261715, 6900: 0.34073123074563894, 7080: 0.34064851694490444, 5991: 0.34041713179924293, 6486: 0.34016956770649653, 6525: 0.34016956770649653, 2452: 0.340070642861293, 5809: 0.33993883253460255, 6933: 0.33993883253460255, 7090: 0.33985650295539827, 6068: 0.3398235822886713, 6529: 0.33964263256434296, 2010: 0.33962619214454703, 7819: 0.3395604463782702, 7928: 0.33928131061480643, 1796: 0.33913371857094093, 7634: 0.3389862548803844, 5787: 0.3389862548803844, 3665: 0.3387898359977884, 7647: 0.3384956340946641, 7994: 0.3384466501140416, 7673: 0.33834872467156274, 5553: 0.3382834725188852, 6462: 0.33825085587977616, 8169: 0.3381530436895367, 7580: 0.3380390009401714, 6848: 0.33799014902038615, 6460: 0.33745370832600025, 5745: 0.3374374791282738, 6421: 0.33738880089989404, 7733: 0.3373401367139861, 6686: 0.3372752729661201, 4009: 0.3371618214086592, 7675: 0.33708083130022565, 6346: 0.3369998800919403, 6627: 0.3369189677557837, 7319: 0.3368704390010657, 6021: 0.3367572595879144, 6991: 0.3366280047744661, 6072: 0.3366118548989732, 7294: 0.33630530141946013, 6472: 0.33627306510971466, 4943: 0.3361925013662768, 6571: 0.336111976216249, 7567: 0.3360153969404816, 7493: 0.33593495659840067, 6024: 0.3357420568242988, 5977: 0.33559752731210585, 7449: 0.33556542653949006, 6628: 0.33548520146859506, 7668: 0.3354691610573367, 3593: 0.3353889820035467, 5972: 0.3353729507917498, 6923: 0.33521272292361554, 6047: 0.3349886609460108, 6906: 0.334509535328448, 6491: 0.3344298142761772, 6464: 0.3343501312134476, 6269: 0.334286412097489, 7744: 0.33403177831536285, 7658: 0.3340158765835569, 8148: 0.3339522847936314, 4934: 0.3338092917605118, 5485: 0.33377753215899325, 6777: 0.33374577860030424, 5644: 0.3335553840510671, 7799: 0.3333652066096925, 6461: 0.33331769612894047, 4786: 0.333159425617958, 6245: 0.33306453543692194, 5801: 0.3330329173872317, 5342: 0.3330329173872317, 7996: 0.33293809924618945, 7857: 0.33284333508131864, 5591: 0.3327801889354106, 3600: 0.3327644061424803, 8130: 0.3326855146284588, 6567: 0.3325120849018623, 3751: 0.3322286805016429, 6682: 0.332118598102537, 6890: 0.33207144226012575, 7236: 0.3319614640194075, 7228: 0.33174172593447737, 580: 0.3316006192879719, 7874: 0.3315849481812002, 8050: 0.3315536104108401, 5064: 0.33124055818686604, 6217: 0.3312249210930556, 7491: 0.3312092854755569, 6809: 0.3310217731418285, 4447: 0.33095931620349983, 5999: 0.33061622389568357, 7578: 0.33021166714581124, 6806: 0.33014951550509114, 6668: 0.3301029171260502, 6295: 0.3301029171260502, 6938: 0.3300563318992472, 5393: 0.3298701224031122, 6020: 0.3297925971099505, 5217: 0.32969961484489435, 1549: 0.46586133082226927, 1166: 0.4656758149276032, 1374: 0.450140341535523, 1151: 0.4440438898496422, 1608: 0.4253614733867352, 722: 0.4194617985002808, 24: 0.4170185737601306, 996: 0.41460364613332135, 2240: 0.41279858230947797, 813: 0.4118294009223571, 2256: 0.41168441609541734, 1496: 0.4110573263526977, 1210: 0.40690932572720506, 993: 0.40655565555187145, 1701: 0.4050535448282067, 2323: 0.40386447381075213, 2504: 0.40302932411477954, 1717: 0.40242830533491236, 2625: 0.4018520906938257, 1211: 0.3982030365218046, 826: 0.39759378384508404, 1319: 0.3973686075502179, 1492: 0.3967843410911156, 1808: 0.39629130209060703, 2371: 0.39606759827909666, 1919: 0.3958441468837347, 2120: 0.3957994868570089, 2474: 0.3957994868570089, 1835: 0.39542028311058375, 1814: 0.3951975613109269, 1428: 0.3950862944712088, 546: 0.3946640512720327, 1473: 0.39444218031899014, 1734: 0.39406557166605993, 2707: 0.3934247787100032, 1633: 0.3931161756787426, 1352: 0.3911874165652429, 1097: 0.3911656075996096, 1585: 0.3909040895600979, 763: 0.3906211726708717, 1357: 0.3899481744853108, 2594: 0.38966663909331317, 2117: 0.3887598350794657, 1200: 0.38871675919746246, 1621: 0.38871675919746246, 946: 0.3886306360648165, 2225: 0.388587588807831, 1111: 0.38848001237551616, 1622: 0.3880932299084129, 2264: 0.3880932299084129, 1772: 0.3880717645749003, 425: 0.3880288410305385, 1754: 0.3879001273504089, 2174: 0.3872364646787459, 1847: 0.38715099616587745, 2547: 0.3869588298871717, 1700: 0.38685215325104466, 1062: 0.3867455354158415, 1697: 0.3864686038840098, 1538: 0.38617081311652796, 2593: 0.38610706050595406, 1922: 0.38604332894163396, 2062: 0.3853225055474873, 1395: 0.3846465382114027, 1267: 0.38445684950762726, 1487: 0.3844357845331323, 1037: 0.38428839432107553, 2646: 0.38426734780186195, 2410: 0.3842042220739348, 1137: 0.3838259028180633, 2375: 0.3835321692092597, 854: 0.3834064209570599, 3033: 0.3831970236763625, 1783: 0.3831342490861244, 1730: 0.3828415727349919, 1537: 0.3827162768512626, 2231: 0.3825076325308945, 2968: 0.38229921557860824, 2470: 0.3821534587970696, 1956: 0.38211183441423574, 1164: 0.3816753252197246, 1521: 0.3816753252197246, 904: 0.3814678140332843, 1679: 0.38090865925701395, 1583: 0.3808466321182325, 1285: 0.38030990858660074, 2102: 0.3802686848146007, 3253: 0.37969248896120983, 2507: 0.3796103177792673, 2118: 0.37954871272931934, 1811: 0.37905659122172863, 1416: 0.37883146177388893, 1000: 0.37881100872012724, 2251: 0.37881100872012724, 1842: 0.3786270305711617, 765: 0.3785044777210011, 2617: 0.37789290157344735, 3020: 0.37787254973686973, 1918: 0.3777911643072473, 1384: 0.37758785402616496, 1353: 0.3774862809229137, 1836: 0.37732387757538033, 1705: 0.37724272829260697, 947: 0.3771818892331038, 1184: 0.3769387291025141, 285: 0.3769184799094385, 2072: 0.37689823289182406, 2322: 0.3767363350254616, 2133: 0.3764533481872624, 1749: 0.37639276345229317, 1966: 0.37625147487742366, 3150: 0.37625147487742366, 1888: 0.375848377089897, 1644: 0.3756270412502916, 2999: 0.3756069327363061, 2754: 0.37550642245192384, 1291: 0.3754863268497376, 2877: 0.3754260529463426, 1566: 0.3753055631727305, 2549: 0.3752252796146423, 2794: 0.3750648154976317, 1855: 0.3750247209104814, 8290: 0.37500467683133065, 1614: 0.37496459510016017, 2587: 0.374924521936208, 2763: 0.37484440129897406, 1997: 0.37470427255082495, 2435: 0.3746442494401002, 1555: 0.37462424600962124, 2830: 0.37452426089005003, 2643: 0.374444311213267, 2009: 0.3741847103362059, 1816: 0.3741248535519994, 1964: 0.3741248535519994, 1419: 0.3740450742890605, 1236: 0.3740450742890605, 1792: 0.3736068958207772, 1596: 0.37356711231573836, 1723: 0.37338819134235524, 1165: 0.37314989648004027, 1031: 0.3731300523034566, 403: 0.3731300523034566, 3029: 0.37307053243548666, 2193: 0.3728524552829311, 2416: 0.3726940137848825, 1646: 0.37267421806523593, 1482: 0.3726346329339953, 2550: 0.3724961511740389, 1378: 0.37245660385997437, 1991: 0.37241706494236715, 1893: 0.37237753441854354, 1992: 0.37233801228583085, 764: 0.37218000761267755, 1215: 0.37206159208368844, 908: 0.3720418634876821, 1781: 0.3720024125716663, 2273: 0.37164773046846744, 2071: 0.37127407680782076, 2579: 0.3712544316373457, 2955: 0.37119550859772493, 1592: 0.3711758717406865, 1637: 0.3710973450845823, 1049: 0.37099923347685054, 2834: 0.3708031658130323, 3251: 0.3707052096747608, 2828: 0.3706464608301213, 2963: 0.37052901898575186, 3164: 0.3705094525803557, 1547: 0.3703920975301798, 1552: 0.3700990348936701, 2856: 0.3698649184772903, 2397: 0.3695921567380003, 2815: 0.3695921567380003, 8291: 0.36957268915007624, 2128: 0.3695142986893932, 2490: 0.3694364734369312, 332: 0.36941702224578515, 2925: 0.36939757310277965, 1653: 0.3692809212375893, 1018: 0.36924205365299423, 766: 0.46691538587304166, 2688: 0.44183485538502504, 1133: 0.4270442789722579, 3456: 0.4269923018204842, 15: 0.42448650877331945, 3453: 0.42175628176930735, 2972: 0.41966250992967263, 2398: 0.4193865812022831, 3787: 0.4182864852458685, 3447: 0.41741552165591034, 1542: 0.4150451052064003, 4099: 0.4123861233992122, 2135: 0.41014423940575184, 3976: 0.4097849260316667, 2381: 0.4064379020746219, 3089: 0.40599106026583714, 3614: 0.4058501563809693, 2369: 0.4058501563809693, 3449: 0.40507692994135425, 4335: 0.4045630804078993, 4191: 0.4036785860142798, 3641: 0.403632140799298, 5412: 0.4029598841898804, 4040: 0.40286733483659837, 5020: 0.40199023166690717, 3452: 0.40120868615703326, 3498: 0.40084195061209993, 4124: 0.40077326232445293, 3796: 0.39974575566967846, 3897: 0.3995863946417334, 3643: 0.39944990057012225, 4536: 0.39879149161726707, 2667: 0.39872350420606906, 2775: 0.3981804383130468, 1470: 0.3979094597353937, 3537: 0.39727860843181007, 3092: 0.3972111358420628, 4045: 0.39660491230084205, 3443: 0.39642564571524924, 4666: 0.3958664806767207, 2516: 0.39557633779749657, 5123: 0.3949083977888331, 3479: 0.3948639486473182, 4338: 0.394486534550444, 5484: 0.39406557166605993, 3956: 0.3940434406107041, 4899: 0.39353511153257037, 4297: 0.3934027195690607, 1769: 0.393358608707417, 1247: 0.3925663013212218, 3813: 0.39243456029499396, 5459: 0.39241261205336675, 3274: 0.3921932645899496, 3910: 0.39177717926820016, 3691: 0.39162410713966267, 4653: 0.39151484311780577, 3854: 0.3914493139653089, 2696: 0.3913183214452982, 2456: 0.3912092279628769, 3607: 0.3911438010655702, 2909: 0.39112199696271793, 2258: 0.39088231217349284, 4044: 0.3903603818579168, 3027: 0.38981818453881867, 4792: 0.38968828122822535, 4041: 0.3895800945871292, 4662: 0.3893855099347465, 2822: 0.389191119564799, 3969: 0.3890832087569565, 5176: 0.3885445510861777, 4574: 0.38848001237551616, 4448: 0.3884585042361974, 4964: 0.38841549510153883, 4212: 0.38772864188296846, 4824: 0.3875573079713984, 4247: 0.38751449815056876, 4547: 0.38736473822747186, 4400: 0.3872150940129248, 1799: 0.3869588298871717, 4948: 0.386894816846661, 3958: 0.3860008529193044, 3843: 0.38595838624314854, 2364: 0.3859159289100818, 5449: 0.3857249864493786, 3666: 0.38566138094400026, 4661: 0.38557660622708123, 2811: 0.3855554183709307, 4578: 0.38502647772124227, 2831: 0.384941981868338, 5106: 0.38470980938228955, 2605: 0.3843094431458727, 2354: 0.38428839432107553, 1680: 0.38424630358785306, 4261: 0.38361604721236725, 4587: 0.38361604721236725, 3321: 0.38351120543942047, 5321: 0.3834692847742361, 4600: 0.38323888483254304, 3417: 0.38311332879295606, 1733: 0.3828415727349919, 8295: 0.382820684390779, 4846: 0.38273715380286916, 4530: 0.3825702019364338, 4219: 0.3825076325308945, 5100: 0.38248678061023755, 2689: 0.38232004705286604, 3014: 0.38229921557860824, 2517: 0.3821326454721528, 4811: 0.38188306229326713, 1360: 0.38186227841048204, 3748: 0.38182071743111656, 2760: 0.3816960887560764, 4266: 0.3816753252197246, 4036: 0.3815922936593352, 4072: 0.3813848727245854, 3728: 0.3810534678495735, 5263: 0.38090865925701395, 3284: 0.3807226384239078, 4827: 0.380619372003591, 5335: 0.3805780811192339, 5130: 0.38053679919265626, 4315: 0.3801656644730276, 3402: 0.37969248896120983, 1310: 0.3791999947853968, 4531: 0.37903611385199054, 3461: 0.37883146177388893, 4276: 0.37866789915884275, 3073: 0.3785453198550956, 3191: 0.3785248976863507, 3460: 0.3784228198864245, 2001: 0.37838200418024037, 3786: 0.37828000342431517, 5226: 0.3780150586452345, 5055: 0.37777082342724366, 3835: 0.37764882413015755, 2014: 0.37758785402616496, 5743: 0.3774862809229137, 5092: 0.37744566698123605, 4719: 0.3773847624523557, 5430: 0.37724272829260697, 4211: 0.3770400077120854, 3393: 0.37701974763644264, 5454: 0.3768779880493203, 4144: 0.3767970304234035, 5683: 0.3767767964511973, 3002: 0.3767565646520001, 4814: 0.3767565646520001, 5844: 0.3765543660985454, 5144: 0.3764735474332885, 5545: 0.376352384461417, 3455: 0.3763120141332366, 5452: 0.37629183221678625, 2787: 0.37606997392475733, 3015: 0.3759692157064729, 2592: 0.37550642245192384, 5026: 0.375325639430523, 5073: 0.37528548906259074, 5721: 0.3750648154976317, 4929: 0.37474429864413805, 4706: 0.37432445067830755, 5341: 0.37430448138245914, 4962: 0.3742645491819596, 4534: 0.3742246255007839, 4076: 0.37420466685409054, 4938: 0.3741248535519994, 4098: 0.37410490554594494, 4999: 0.37394539804477944, 3103: 0.3738656952903606, 3464: 0.37368648825704076, 4820: 0.37348757071831135, 4151: 0.37348757071831135, 5886: 0.37344781262051296, 4127: 0.37344781262051296, 4980: 0.37314989648004027, 4953: 0.37303086307162514, 3463: 0.37299120214311826, 4613: 0.3729119055814083, 6124: 0.37281283228024426, 5693: 0.3725950562112579, 4073: 0.3724961511740389, 2765: 0.37243683335178074, 3106: 0.3721207904276954, 4796: 0.3720813227721375, 4715: 0.3720221369837856, 4482: 0.371943251882644, 4808: 0.3718841100076428, 4550: 0.37182498693768934, 4797: 0.37180528342505414, 2702: 0.3717855820005403, 4077: 0.3717067971770607, 3522: 0.37133302479567065, 4551: 0.37127407680782076, 5061: 0.3712347885457247, 5204: 0.37107771861192074, 5072: 0.37103847189392897, 5947: 0.3708815680047678, 3433: 0.3708227632532211, 5509: 0.37076397714617404, 5482: 0.37058773060340133, 5239: 0.37052901898575186, 5828: 0.37031390212245724, 3366: 0.37023573972424656, 5392: 0.37015761031465033, 4189: 0.3700990348936701, 4070: 0.3700599949110863, 1548: 0.3699819396495569, 5162: 0.3699429243654011, 5780: 0.3699039173088463, 4527: 0.3695921567380003, 5637: 0.369553223612883, 5936: 0.36941702224578515, 1984: 0.36922262292870583, 5155: 0.3692031942493263, 5215: 0.36918376761453287, 5323: 0.36904783839228894, 3898: 0.3689896136478673, 4355: 0.36885382733225724, 5132: 0.36881504959599437, 5651: 0.36860191770497486, 5928: 0.36848576773878455, 5511: 0.36833101493591247, 5222: 0.36807981867139844, 5285: 0.36763623282757124, 5083: 0.3671744991111098, 5182: 0.3671168639343971, 1159: 0.36690568966763565, 3554: 0.3663118671564267, 5732: 0.366216269299765, 5463: 0.3658916094865559, 5506: 0.3657771610631945}\n"
     ]
    }
   ],
   "source": [
    "print(seeds)"
   ]
  },
  {
   "cell_type": "code",
   "execution_count": 6,
   "metadata": {},
   "outputs": [
    {
     "name": "stdout",
     "output_type": "stream",
     "text": [
      "Graph with 5552 nodes and 5974 edges\n"
     ]
    }
   ],
   "source": [
    "# Create a copy of the original graph to be modified later, by removing nodes (fair version)\n",
    "G2_copy_comm_fair = G2.copy()\n",
    "\n",
    "\n",
    "G2_copy_comm_fair.remove_nodes_from(seeds)\n",
    "print(G2_copy_comm_fair)"
   ]
  },
  {
   "cell_type": "code",
   "execution_count": 7,
   "metadata": {},
   "outputs": [],
   "source": [
    "# Calcualte the centralities for the new graph\n",
    "\n",
    "degree_after = nx.degree_centrality(G2_copy_comm_fair)\n",
    "closeness_after = nx.closeness_centrality(G2_copy_comm_fair)\n",
    "betweenness_after = nx.betweenness_centrality(G2_copy_comm_fair)\n",
    "degree_after = nx.degree_centrality(G2_copy_comm_fair)\n",
    "eigen_after = nx.eigenvector_centrality(G2_copy_comm_fair)\n",
    "pagerank_after = nx.pagerank(G2_copy_comm_fair)"
   ]
  },
  {
   "cell_type": "code",
   "execution_count": 8,
   "metadata": {},
   "outputs": [
    {
     "name": "stdout",
     "output_type": "stream",
     "text": [
      "The dictionary has 3636 distinct values.\n"
     ]
    }
   ],
   "source": [
    "import community\n",
    "\n",
    "# Compute the Louvain communities\n",
    "partition_after = community.best_partition(G2_copy_comm_fair)\n",
    "\n",
    "# Compute the size of each community\n",
    "\n",
    "community_sizes_after = np.bincount(list(partition_after.values()))\n",
    "\n",
    "# Compute the total number of nodes in the graph\n",
    "total_nodes_after = len(G2_copy_comm_fair.nodes())\n",
    "\n",
    "# Compute the number of communities and print it\n",
    "num_distinct_values = len(set(partition_after.values()))\n",
    "\n",
    "print(\"The dictionary has\", num_distinct_values, \"distinct values.\")\n",
    "\n",
    "proportional_sizes_after = community_sizes_after / total_nodes_after"
   ]
  },
  {
   "cell_type": "code",
   "execution_count": 57,
   "metadata": {},
   "outputs": [
    {
     "name": "stdout",
     "output_type": "stream",
     "text": [
      "<class 'dict'>\n"
     ]
    }
   ],
   "source": [
    "print(type(partition_after))"
   ]
  },
  {
   "cell_type": "code",
   "execution_count": 50,
   "metadata": {},
   "outputs": [
    {
     "name": "stdout",
     "output_type": "stream",
     "text": [
      "128\n"
     ]
    }
   ],
   "source": [
    "# Initialize a dictionary to store the seed nodes\n",
    "seeds_after = {}\n",
    "for community_id in set(partition_after.values()):\n",
    "    nodes_in_community_after = [node for node, comm in partition_after.items() if comm == community_id]\n",
    "\n",
    "    # Compute the number of seed nodes for the current community\n",
    "    num_seeds_after = int(round(proportional_sizes_after[community_id] * len(nodes_in_community_after)))   \n",
    "\n",
    "    # Sort the nodes in the current community by betweenness centrality\n",
    "    # nodes_sorted_by_dc_after = sorted(nodes_in_community_after, key=lambda node: degree_after[node], reverse=True)\n",
    "    # nodes_sorted_by_bc_after = sorted(nodes_in_community_after, key=lambda node: betweenness_after[node], reverse=True)\n",
    "    # nodes_sorted_by_cc_after = sorted(nodes_in_community_after, key=lambda node: closeness_after[node], reverse=True)\n",
    "    nodes_sorted_by_pc_after = sorted(nodes_in_community_after, key=lambda node: pagerank_after[node], reverse=True)\n",
    "    # nodes_sorted_by_ec_after = sorted(nodes_in_community_after, key=lambda node: eigen_after[node], reverse=True)\n",
    "    \n",
    "    # Add the top `num_seeds` nodes to the seed dictionary \n",
    "    # seeds_after.update({node: degree_after[node] for node in nodes_sorted_by_dc_after[:num_seeds_after]})\n",
    "    # seeds_after.update({node: betweenness_after[node] for node in nodes_sorted_by_bc_after[:num_seeds_after]})\n",
    "    # seeds_after.update({node: closeness_after[node] for node in nodes_sorted_by_cc_after[:num_seeds_after]})\n",
    "    seeds_after.update({node: pagerank_after[node] for node in nodes_sorted_by_pc_after[:num_seeds_after]})\n",
    "    # seeds_after.update({node: eigen_after[node] for node in nodes_sorted_by_ec_after[:num_seeds_after]})\n",
    "\n",
    "print(len(seeds_after))"
   ]
  },
  {
   "cell_type": "code",
   "execution_count": null,
   "metadata": {},
   "outputs": [],
   "source": [
    "print(len(seeds_after))"
   ]
  },
  {
   "attachments": {},
   "cell_type": "markdown",
   "metadata": {},
   "source": [
    "For the following code dont forget to change the graphs for before/after blocking the nodes"
   ]
  },
  {
   "cell_type": "code",
   "execution_count": 51,
   "metadata": {},
   "outputs": [
    {
     "name": "stdout",
     "output_type": "stream",
     "text": [
      "The average percentage is:  7.081850533807829 %\n"
     ]
    }
   ],
   "source": [
    "# ICM\n",
    "# This code can be used with the previous two cell blocks to calculate the influence count. \n",
    "# It combines the method of calculating the spread using spreading model as defined in the NDlib package, witht the different heuristic approaches.\n",
    "average = []\n",
    "for index in range(7):\n",
    "    model = ep.IndependentCascadesModel(G2_copy_comm_fair)\n",
    "    # model = ep.SIRModel(G2)\n",
    "    # model = ep.SIModel(G2)\n",
    "    # model = ep.ThresholdModel(G2_copy_comm_fair)\n",
    "    cfg = mc.Configuration()\n",
    "    # cfg.add_model_parameter('beta', 0.01)\n",
    "    # cfg.add_model_parameter('gamma', 0.005)\n",
    "    # cfg.add_model_parameter('lambda', 0.005)\n",
    "    infected_nodes = seeds_after\n",
    "    cfg.add_model_initial_configuration(\"Infected\", infected_nodes)\n",
    "    # cfg.add_model_parameter(\"fraction_infected\", 0.05)\n",
    "    model.set_initial_status(cfg)\n",
    "    threshold = 0.1\n",
    "    for e in G2_copy_comm_fair.edges():\n",
    "        cfg.add_edge_configuration(\"threshold\", e, random.uniform(0,1))\n",
    "    # for n in G2.nodes():\n",
    "    #     cfg.add_node_configuration(\"threshold\", n, threshold)\n",
    "\n",
    "    # iterations = model.iteration_bunch(500, True, True)\n",
    "    # trends = model.build_trends(iterations)\n",
    "    # viz = DiffusionTrend(model, trends)\n",
    "    # p = viz.plot(width=800, height=800)\n",
    "    # show(p)\n",
    "    list = []\n",
    "    for i in range(0,1000):\n",
    "        iterations = model.iteration_bunch(1)\n",
    "        # print(iterations)\n",
    "\n",
    "        dict = iterations[0]\n",
    "        for i in dict:\n",
    "            k = (i,dict[i])\n",
    "            list.append(k)\n",
    "    list2 = []\n",
    "    for i in range(len(list)):\n",
    "        if list[i][0] == 'status':\n",
    "            list2.append(list[i][1])\n",
    "    list4 = []\n",
    "    for t in range(len(list2)):\n",
    "        for f in list2[t]:\n",
    "            if list2[t][f] == 1:\n",
    "                list4.append(f)\n",
    "    # print(\"================================\")\n",
    "    # print(f\"Results for iteration {index+1}:\")\n",
    "    # print(\"Total nodes infected: \", len(list4), \"out of\", len(G2.nodes()))\n",
    "    percentage = (len(list4)/len(G2_copy_comm_fair.nodes()))*100\n",
    "    # print(\"Percentage of total infected nodes with current seed set: \", percentage, \"%\")\n",
    "    # print(\"================================\")\n",
    "    average.append(percentage)\n",
    "print(\"The average percentage is: \", sum(average)/len(average), \"%\")"
   ]
  },
  {
   "cell_type": "code",
   "execution_count": 52,
   "metadata": {},
   "outputs": [
    {
     "name": "stdout",
     "output_type": "stream",
     "text": [
      "The average percentage is:  23.820538891713266 %\n"
     ]
    }
   ],
   "source": [
    "# LTM\n",
    "# This code can be used with the previous two cell blocks to calculate the influence count. \n",
    "# It combines the method of calculating the spread using spreading model as defined in the NDlib package, witht the different heuristic approaches.\n",
    "average = []\n",
    "for index in range(7):\n",
    "    # model = ep.IndependentCascadesModel(G2)\n",
    "    # model = ep.SIRModel(G2)\n",
    "    # model = ep.SIModel(G2)\n",
    "    model = ep.ThresholdModel(G2_copy_comm_fair)\n",
    "    cfg = mc.Configuration()\n",
    "    # cfg.add_model_parameter('beta', 0.01)\n",
    "    # cfg.add_model_parameter('gamma', 0.005)\n",
    "    # cfg.add_model_parameter('lambda', 0.005)\n",
    "    infected_nodes = seeds_after\n",
    "    cfg.add_model_initial_configuration(\"Infected\", infected_nodes)\n",
    "    # cfg.add_model_parameter(\"fraction_infected\", 0.05)\n",
    "    model.set_initial_status(cfg)\n",
    "    threshold = 0.1\n",
    "    # for e in G2.edges():\n",
    "    #     cfg.add_edge_configuration(\"threshold\", e, threshold)\n",
    "    for n in G2_copy_comm_fair.nodes():\n",
    "        cfg.add_node_configuration(\"threshold\", n, random.uniform(0,1))\n",
    "\n",
    "    # iterations = model.iteration_bunch(500, True, True)\n",
    "    # trends = model.build_trends(iterations)\n",
    "    # viz = DiffusionTrend(model, trends)\n",
    "    # p = viz.plot(width=800, height=800)\n",
    "    # show(p)\n",
    "    list = []\n",
    "    for i in range(0,1000):\n",
    "        iterations = model.iteration_bunch(1)\n",
    "\n",
    "        dict = iterations[0]\n",
    "        for i in dict:\n",
    "            k = (i,dict[i])\n",
    "            list.append(k)\n",
    "    list2 = []\n",
    "    for i in range(len(list)):\n",
    "        if list[i][0] == 'status':\n",
    "            list2.append(list[i][1])\n",
    "    list4 = []\n",
    "    for t in range(len(list2)):\n",
    "        for f in list2[t]:\n",
    "            if list2[t][f] == 1:\n",
    "                list4.append(f)\n",
    "    # print(\"================================\")\n",
    "    # print(f\"Results for iteration {index+1}:\")\n",
    "    # print(\"Total nodes infected: \", len(list4), \"out of\", len(G2.nodes()))\n",
    "    percentage = (len(list4)/len(G2_copy_comm_fair.nodes()))*100\n",
    "    # print(\"Percentage of total infected nodes with current seed set: \", percentage, \"%\")\n",
    "    # print(\"================================\")\n",
    "    average.append(percentage)\n",
    "print(\"The average percentage is: \", sum(average)/len(average), \"%\")"
   ]
  },
  {
   "cell_type": "code",
   "execution_count": null,
   "metadata": {},
   "outputs": [],
   "source": [
    "# ICM\n",
    "# This code can be used with the previous two cell blocks to calculate the influence count. \n",
    "# It combines the method of calculating the spread using spreading model as defined in the NDlib package, witht the different heuristic approaches.\n",
    "average = []\n",
    "for index in range(7):\n",
    "    model = ep.IndependentCascadesModel(G2_copy)\n",
    "    # model = ep.SIRModel(G2)\n",
    "    # model = ep.SIModel(G2)\n",
    "    # model = ep.ThresholdModel(G2_copy_comm_fair)\n",
    "    cfg = mc.Configuration()\n",
    "    # cfg.add_model_parameter('beta', 0.01)\n",
    "    # cfg.add_model_parameter('gamma', 0.005)\n",
    "    # cfg.add_model_parameter('lambda', 0.005)\n",
    "    infected_nodes = first_100_after\n",
    "    cfg.add_model_initial_configuration(\"Infected\", infected_nodes)\n",
    "    # cfg.add_model_parameter(\"fraction_infected\", 0.05)\n",
    "    model.set_initial_status(cfg)\n",
    "    threshold = 0.1\n",
    "    for e in G2_copy.edges():\n",
    "        cfg.add_edge_configuration(\"threshold\", e, 0.1)\n",
    "    # for n in G2.nodes():\n",
    "    #     cfg.add_node_configuration(\"threshold\", n, threshold)\n",
    "\n",
    "    # iterations = model.iteration_bunch(500, True, True)\n",
    "    # trends = model.build_trends(iterations)\n",
    "    # viz = DiffusionTrend(model, trends)\n",
    "    # p = viz.plot(width=800, height=800)\n",
    "    # show(p)\n",
    "    list = []\n",
    "    for i in range(0,50):\n",
    "        iterations = model.iteration_bunch(200)\n",
    "\n",
    "        dict = iterations[0]\n",
    "        for i in dict:\n",
    "            k = (i,dict[i])\n",
    "            list.append(k)\n",
    "    list2 = []\n",
    "    for i in range(len(list)):\n",
    "        if list[i][0] == 'status':\n",
    "            list2.append(list[i][1])\n",
    "    list4 = []\n",
    "    for t in range(len(list2)):\n",
    "        for f in list2[t]:\n",
    "            if list2[t][f] == 1:\n",
    "                list4.append(f)\n",
    "    # print(\"================================\")\n",
    "    # print(f\"Results for iteration {index+1}:\")\n",
    "    # print(\"Total nodes infected: \", len(list4), \"out of\", len(G2.nodes()))\n",
    "    percentage = (len(list4)/len(G2_copy.nodes()))*100\n",
    "    # print(\"Percentage of total infected nodes with current seed set: \", percentage, \"%\")\n",
    "    # print(\"================================\")\n",
    "    average.append(percentage)\n",
    "print(\"The average percentage is: \", sum(average)/len(average), \"%\")"
   ]
  }
 ],
 "metadata": {
  "kernelspec": {
   "display_name": "Python 3.10.7 64-bit",
   "language": "python",
   "name": "python3"
  },
  "language_info": {
   "codemirror_mode": {
    "name": "ipython",
    "version": 3
   },
   "file_extension": ".py",
   "mimetype": "text/x-python",
   "name": "python",
   "nbconvert_exporter": "python",
   "pygments_lexer": "ipython3",
   "version": "3.10.7"
  },
  "orig_nbformat": 4,
  "vscode": {
   "interpreter": {
    "hash": "afb734500600fd355917ca529030176ea0ca205570884b88f2f6f7d791fd3fbe"
   }
  }
 },
 "nbformat": 4,
 "nbformat_minor": 2
}
